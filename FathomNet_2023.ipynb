{
  "nbformat": 4,
  "nbformat_minor": 0,
  "metadata": {
    "colab": {
      "provenance": [],
      "gpuType": "T4"
    },
    "kernelspec": {
      "name": "python3",
      "display_name": "Python 3"
    },
    "language_info": {
      "name": "python"
    },
    "gpuClass": "standard",
    "accelerator": "GPU"
  },
  "cells": [
    {
      "cell_type": "code",
      "execution_count": null,
      "metadata": {
        "id": "d24e_4qwgdjr"
      },
      "outputs": [],
      "source": [
        "! mkdir ~/.kaggle"
      ]
    },
    {
      "cell_type": "code",
      "source": [
        "!mv ./kaggle.json  ~/.kaggle/\n",
        "! chmod 600 ~/.kaggle/kaggle.json"
      ],
      "metadata": {
        "id": "5H1HwQwdhIYx"
      },
      "execution_count": null,
      "outputs": []
    },
    {
      "cell_type": "code",
      "source": [
        "!kaggle competitions download -c fathomnet-out-of-sample-detection"
      ],
      "metadata": {
        "colab": {
          "base_uri": "https://localhost:8080/"
        },
        "id": "5YS1I9jjhLr5",
        "outputId": "7c741c72-901e-4475-ea09-628e4c7d9b03"
      },
      "execution_count": null,
      "outputs": [
        {
          "output_type": "stream",
          "name": "stdout",
          "text": [
            "Downloading fathomnet-out-of-sample-detection.zip to /content\n",
            "\r  0% 0.00/1.30M [00:00<?, ?B/s]\n",
            "\r100% 1.30M/1.30M [00:00<00:00, 76.2MB/s]\n"
          ]
        }
      ]
    },
    {
      "cell_type": "code",
      "source": [
        "!unzip fathomnet-out-of-sample-detection.zip"
      ],
      "metadata": {
        "colab": {
          "base_uri": "https://localhost:8080/"
        },
        "id": "xuo6nleijpte",
        "outputId": "4c28be46-ced1-4384-8c4a-ac74946f2ac6"
      },
      "execution_count": null,
      "outputs": [
        {
          "output_type": "stream",
          "name": "stdout",
          "text": [
            "Archive:  fathomnet-out-of-sample-detection.zip\n",
            "  inflating: category_key.csv        \n",
            "  inflating: demo_download.ipynb     \n",
            "  inflating: download_images.py      \n",
            "  inflating: multilabel_classification/train.csv  \n",
            "  inflating: object_detection/eval.json  \n",
            "  inflating: object_detection/train.json  \n",
            "  inflating: requirements.txt        \n",
            "  inflating: sample_submission.csv   \n"
          ]
        }
      ]
    },
    {
      "cell_type": "markdown",
      "source": [
        "# **Install lib**"
      ],
      "metadata": {
        "id": "fZkvgNkMpB0U"
      }
    },
    {
      "cell_type": "code",
      "source": [
        "!pip install positional-encodings timm randaugment"
      ],
      "metadata": {
        "id": "Vb8x1HgFpBel"
      },
      "execution_count": null,
      "outputs": []
    },
    {
      "cell_type": "markdown",
      "source": [
        "# **Dataset download**"
      ],
      "metadata": {
        "id": "U9maa6UFj93M"
      }
    },
    {
      "cell_type": "code",
      "source": [
        "import os\n",
        "import json\n",
        "import requests\n",
        "from shutil import copyfileobj\n",
        "from multiprocessing.pool import ThreadPool"
      ],
      "metadata": {
        "id": "1-ipq47chZy2"
      },
      "execution_count": null,
      "outputs": []
    },
    {
      "cell_type": "code",
      "source": [
        "def read_json(filename):\n",
        "    return json.load(open(filename, \"r\"))\n",
        "\n",
        "\n",
        "def delete_empty_files(folder_path):\n",
        "    for file_name in os.listdir(folder_path):\n",
        "        file_path = os.path.join(folder_path, file_name)\n",
        "        if os.path.isfile(file_path) and os.path.getsize(file_path) == 0:\n",
        "            os.remove(file_path)\n",
        "\n",
        "\n",
        "def download_image(image):\n",
        "    if not os.path.exists(image[0]):\n",
        "        resp = requests.get(image[1], stream=True)\n",
        "        resp.raw.decode_content = True\n",
        "        with open(image[0], 'wb') as f:\n",
        "            copyfileobj(resp.raw, f)"
      ],
      "metadata": {
        "id": "BsIAgeZDhoI6"
      },
      "execution_count": null,
      "outputs": []
    },
    {
      "cell_type": "code",
      "source": [
        "def valid_download():\n",
        "    delete_empty_files(\"./imgs/valid/\")\n",
        "    valid_json = read_json(\"./object_detection/eval.json\")\n",
        "    valid_imgs = [\n",
        "        [\"./imgs/valid/\"+i[\"file_name\"], i[\"coco_url\"]] for i in valid_json[\"images\"] if not os.path.exists(\"./imgs/valid/\"+i[\"file_name\"])\n",
        "    ]\n",
        "    pool = ThreadPool(10000)\n",
        "    results = pool.map(download_image, valid_imgs)\n",
        "    pool.close()\n",
        "    pool.join()"
      ],
      "metadata": {
        "id": "q-IEjGX9hqCt"
      },
      "execution_count": null,
      "outputs": []
    },
    {
      "cell_type": "code",
      "source": [
        "def train_download():\n",
        "    delete_empty_files(\"./imgs/train/\")\n",
        "    train_json = read_json(\"./object_detection/train.json\")\n",
        "    train_imgs = [\n",
        "        [\"./imgs/train/\"+i[\"file_name\"], i[\"coco_url\"]] for i in train_json[\"images\"] if not os.path.exists(\"./imgs/train/\"+i[\"file_name\"])\n",
        "    ]\n",
        "    pool = ThreadPool(10000)\n",
        "    results = pool.map(download_image, train_imgs)\n",
        "    pool.close()\n",
        "    pool.join()"
      ],
      "metadata": {
        "id": "R-Q7BNO0hrSk"
      },
      "execution_count": null,
      "outputs": []
    },
    {
      "cell_type": "code",
      "source": [
        "if not os.path.exists(\"./imgs\"):\n",
        "    os.mkdir(\"./imgs\")\n",
        "    os.mkdir(\"./imgs/train/\")\n",
        "    os.mkdir(\"./imgs/valid/\")\n",
        "else:\n",
        "    if not os.path.exists(\"./imgs/train/\"):\n",
        "        os.mkdir(\"./imgs/train/\")\n",
        "\n",
        "    if not os.path.exists(\"./imgs/valid/\"):\n",
        "        os.mkdir(\"./imgs/valid/\")"
      ],
      "metadata": {
        "id": "olxawgTZhsZM"
      },
      "execution_count": null,
      "outputs": []
    },
    {
      "cell_type": "code",
      "source": [
        "%%time\n",
        "train_download()"
      ],
      "metadata": {
        "colab": {
          "base_uri": "https://localhost:8080/"
        },
        "id": "cKgrhaZUhuag",
        "outputId": "0a41cc20-fd0d-44e1-8d98-d65e18a8073f"
      },
      "execution_count": null,
      "outputs": [
        {
          "output_type": "stream",
          "name": "stdout",
          "text": [
            "CPU times: user 2min 27s, sys: 1min 34s, total: 4min 1s\n",
            "Wall time: 2min 48s\n"
          ]
        }
      ]
    },
    {
      "cell_type": "code",
      "source": [
        "%%time \n",
        "valid_download()"
      ],
      "metadata": {
        "colab": {
          "base_uri": "https://localhost:8080/"
        },
        "id": "5a8dWxR-hw3s",
        "outputId": "06ade925-67b4-4453-c4c9-14d9e6708a82"
      },
      "execution_count": null,
      "outputs": [
        {
          "output_type": "stream",
          "name": "stdout",
          "text": [
            "CPU times: user 5min 54s, sys: 6min 8s, total: 12min 3s\n",
            "Wall time: 8min 29s\n"
          ]
        }
      ]
    },
    {
      "cell_type": "code",
      "source": [
        "data = read_json(\"./object_detection/train.json\")"
      ],
      "metadata": {
        "id": "6dwSnN8pidc6"
      },
      "execution_count": null,
      "outputs": []
    },
    {
      "cell_type": "code",
      "source": [
        "data.keys()"
      ],
      "metadata": {
        "colab": {
          "base_uri": "https://localhost:8080/"
        },
        "id": "jnYSxPw_kyk6",
        "outputId": "ca69b028-acb5-488e-fd5f-d597072737dd"
      },
      "execution_count": null,
      "outputs": [
        {
          "output_type": "execute_result",
          "data": {
            "text/plain": [
              "dict_keys(['info', 'images', 'licenses', 'annotations', 'categories'])"
            ]
          },
          "metadata": {},
          "execution_count": 19
        }
      ]
    },
    {
      "cell_type": "code",
      "source": [
        "categories = data['categories']\n",
        "categories"
      ],
      "metadata": {
        "id": "GIoUpZc8lyDk"
      },
      "execution_count": null,
      "outputs": []
    },
    {
      "cell_type": "markdown",
      "source": [
        "# **Create Custom Dataset**"
      ],
      "metadata": {
        "id": "Ifagstzclkwh"
      }
    },
    {
      "cell_type": "code",
      "source": [
        "import os\n",
        "import json \n",
        "import torch\n",
        "import random\n",
        "import numpy as np\n",
        "from PIL import Image, ImageDraw\n",
        "from randaugment import RandAugment\n",
        "from torch.utils.data import Dataset, DataLoader\n",
        "import torchvision.transforms as transforms"
      ],
      "metadata": {
        "id": "M9x8CwkilnDv"
      },
      "execution_count": null,
      "outputs": []
    },
    {
      "cell_type": "code",
      "source": [
        "class SLCutoutPIL(object):\n",
        "    def __init__(self, n_holes, length, cut_fact=None):\n",
        "        self.n_holes = n_holes\n",
        "        self.length = length\n",
        "        self.cut_fact = cut_fact\n",
        "        if self.cut_fact is not None:\n",
        "            assert length < 0, \"length must be set to -1 but {} if cut_fact is not None!\".format(length)\n",
        "\n",
        "    def __call__(self, x):\n",
        "        img_draw = ImageDraw.Draw(x)\n",
        "        h, w = x.size[0], x.size[1]  # HWC\n",
        "        if self.cut_fact is not None:\n",
        "            h_cutout = int(self.cut_fact * h)\n",
        "            w_cutout = int(self.cut_fact * w)\n",
        "        else:\n",
        "            h_cutout = int(self.length)\n",
        "            w_cutout = int(self.length)\n",
        "        for i in range(self.n_holes):\n",
        "            y_c = np.random.randint(h)\n",
        "            x_c = np.random.randint(w)\n",
        "\n",
        "            y1 = np.clip(y_c - h_cutout // 2, 0, h)\n",
        "            y2 = np.clip(y_c + h_cutout // 2, 0, h)\n",
        "            x1 = np.clip(x_c - w_cutout // 2, 0, w)\n",
        "            x2 = np.clip(x_c + w_cutout // 2, 0, w)\n",
        "            fill_color = (random.randint(0, 255), random.randint(0, 255), random.randint(0, 255))\n",
        "            img_draw.rectangle([x1, y1, x2, y2], fill=fill_color)\n",
        "\n",
        "        return x"
      ],
      "metadata": {
        "id": "1qyNlCaLxe5d"
      },
      "execution_count": null,
      "outputs": []
    },
    {
      "cell_type": "code",
      "source": [
        "class FathomDataset(Dataset):\n",
        "\n",
        "\n",
        "    def __init__(self, img_path, json_path, img_size, train_mode=False, **kwargs):\n",
        "        super().__init__()\n",
        "        self.img_path = img_path\n",
        "        self._load_json_data(json_path)\n",
        "        self.train_mode = train_mode\n",
        "        if train_mode:\n",
        "            self.num_classes = kwargs[\"num_classes\"]\n",
        "            self.transform = transforms.Compose([\n",
        "                transforms.Resize((img_size, img_size)),\n",
        "                # SLCutoutPIL(n_holes=kwargs[\"n_holes\"], length=kwargs[\"length\"], cut_fact=0.5),\n",
        "                RandAugment(),\n",
        "                transforms.ToTensor(),\n",
        "                transforms.Normalize(mean=[0.485, 0.456, 0.406], std=[0.229, 0.224, 0.225])\n",
        "            ]) \n",
        "        else:\n",
        "            self.transform = transforms.Compose([\n",
        "                transforms.Resize((img_size, img_size)),\n",
        "                transforms.ToTensor(),\n",
        "                transforms.Normalize(mean=[0.485, 0.456, 0.406], std=[0.229, 0.224, 0.225])\n",
        "            ])\n",
        "\n",
        "\n",
        "    def _load_json_data(self, json_path):\n",
        "        self.json_data = json.load(open(json_path, \"rb\"))\n",
        "\n",
        "    \n",
        "    def __len__(self):\n",
        "        return len(self.json_data[\"images\"])\n",
        "\n",
        "\n",
        "    def get_one_hot_label(self, image_id):\n",
        "        annotations = self.json_data[\"annotations\"]\n",
        "        img_annotation = list(filter(lambda annotation: annotation[\"image_id\"] == image_id ,annotations))\n",
        "        img_annotation = list(map(lambda annotation: int(annotation[\"category_id\"]), img_annotation))\n",
        "        one_hot_vector = torch.zeros(self.num_classes)\n",
        "        one_hot_vector[img_annotation] = 1.0\n",
        "        return one_hot_vector\n",
        "\n",
        "\n",
        "    def __getitem__(self, idx):\n",
        "        if self.train_mode:\n",
        "            image_info = self.json_data[\"images\"][idx]\n",
        "            filename = image_info[\"file_name\"]\n",
        "            img_id = image_info[\"id\"]\n",
        "            label = self.get_one_hot_label(img_id)        \n",
        "            img = Image.open(os.path.join(self.img_path, filename)).convert(\"RGB\")\n",
        "            img = self.transform(img)\n",
        "            return img, label \n",
        "        else:\n",
        "            image_info = self.json_data[\"images\"][idx]\n",
        "            filename = image_info[\"file_name\"]    \n",
        "            img = Image.open(os.path.join(self.img_path, filename)).convert(\"RGB\")\n",
        "            img = self.transform(img)\n",
        "            return img, filename.split(\".\")[0]"
      ],
      "metadata": {
        "id": "QpYaQooSlrlF"
      },
      "execution_count": null,
      "outputs": []
    },
    {
      "cell_type": "code",
      "source": [
        "NUM_CLASSES = len(categories) + 1 # add 1 class for \"out of sample\"\n",
        "IMG_SIZE = 256\n",
        "BATCH_SIZE = 64"
      ],
      "metadata": {
        "id": "i58bSAf_nbu7"
      },
      "execution_count": null,
      "outputs": []
    },
    {
      "cell_type": "code",
      "source": [
        "train_dataset = FathomDataset(\"./imgs/train/\", \"./object_detection/train.json\", IMG_SIZE, train_mode=True, num_classes=NUM_CLASSES, n_holes=1, length=-1)\n",
        "len(train_dataset)"
      ],
      "metadata": {
        "colab": {
          "base_uri": "https://localhost:8080/"
        },
        "id": "LQ0km4p_mgSd",
        "outputId": "0cdcf010-271f-4120-9ed2-760370483af3"
      },
      "execution_count": null,
      "outputs": [
        {
          "output_type": "execute_result",
          "data": {
            "text/plain": [
              "5950"
            ]
          },
          "metadata": {},
          "execution_count": 159
        }
      ]
    },
    {
      "cell_type": "code",
      "source": [
        "valid_dataset = FathomDataset(\"./imgs/valid/\", \"./object_detection/eval.json\", IMG_SIZE)\n",
        "len(train_dataset)"
      ],
      "metadata": {
        "colab": {
          "base_uri": "https://localhost:8080/"
        },
        "id": "uUX-rNpLrbYx",
        "outputId": "7543be5c-0b80-4f73-d770-8e4c3b4e75ec"
      },
      "execution_count": null,
      "outputs": [
        {
          "output_type": "execute_result",
          "data": {
            "text/plain": [
              "5950"
            ]
          },
          "metadata": {},
          "execution_count": 173
        }
      ]
    },
    {
      "cell_type": "code",
      "source": [
        "train_loader = DataLoader(\n",
        "    train_dataset,\n",
        "    batch_size = BATCH_SIZE,\n",
        "    shuffle = True, \n",
        ")\n",
        "len(train_loader)"
      ],
      "metadata": {
        "colab": {
          "base_uri": "https://localhost:8080/"
        },
        "id": "UyfYp2FqmkJZ",
        "outputId": "0c010b4e-e9a2-428e-899e-edc9c00b9770"
      },
      "execution_count": null,
      "outputs": [
        {
          "output_type": "execute_result",
          "data": {
            "text/plain": [
              "93"
            ]
          },
          "metadata": {},
          "execution_count": 160
        }
      ]
    },
    {
      "cell_type": "code",
      "source": [
        "valid_loader = DataLoader(\n",
        "    valid_dataset,\n",
        "    batch_size = 128,\n",
        "    # shuffle = True, \n",
        ")\n",
        "len(valid_loader)"
      ],
      "metadata": {
        "colab": {
          "base_uri": "https://localhost:8080/"
        },
        "id": "NNaezPUgravm",
        "outputId": "c4c5ff6e-4770-462e-dcf0-1de2ea17fb95"
      },
      "execution_count": null,
      "outputs": [
        {
          "output_type": "execute_result",
          "data": {
            "text/plain": [
              "84"
            ]
          },
          "metadata": {},
          "execution_count": 202
        }
      ]
    },
    {
      "cell_type": "code",
      "source": [
        "for idx,(X, y) in enumerate(valid_loader):\n",
        "    print(X.size())\n",
        "    print(y)\n",
        "    break"
      ],
      "metadata": {
        "colab": {
          "base_uri": "https://localhost:8080/",
          "height": 504
        },
        "id": "ZJsxJ2CYUJFB",
        "outputId": "35ab1a1d-b43f-4440-a649-96433f40f415"
      },
      "execution_count": null,
      "outputs": [
        {
          "output_type": "stream",
          "name": "stdout",
          "text": [
            "torch.Size([32, 3, 256, 256])\n",
            "('286abaf5-5071-49d4-805c-c7a010135af9', '913c8bd5-e43e-4f96-8f79-2e9bf7e6cadd', '0c1e8581-6c2b-49fc-893c-00e4aa0f9ce6', 'd232464e-d26b-431e-b033-bea0ca903cab', 'a10d64a2-76b5-47c0-bf2f-c7a6470ee3f9', 'edf5c87a-cc45-4cf7-9cb8-48760c5e2c7e', '2ac5e445-928d-4f5f-b03f-f3fe7518e581', '31a84647-07ce-4208-b1e3-7c262c0d12d2', 'b6a79ed6-f4d8-4250-a6d5-5122651dd87a', 'c3499935-311b-4bc2-bdde-01f00bc97b30', '910c7cdb-7a39-4140-b34f-47cf66ba86be', '2a22704d-ea3c-42b8-a745-35ae20d96d86', '98a5d4b7-d552-46a7-ae0c-8d8b8e330786', '2c95dc49-6fc1-4680-ae46-ad2505a626db', '600f9435-47be-46ae-bc8d-80bae2d34343', '3dd59de6-7ed5-41c6-9514-9f4664ad7504', '47f19230-4f31-4deb-95ba-e2ef532b3029', 'a59f2ea0-0975-4be7-abfc-6015d98733ee', 'e1a1d8a7-445b-4602-8a74-fc747466809b', 'a65a4bbc-c0f5-4fb9-b9d3-a5a40caea138', '4ef1e4a6-4302-46a4-8684-86ebaf64ea16', '274bfcf9-094b-418b-94fb-dda507a044b5', '8fe2436f-a68d-4563-8dd7-5b0a154d1c06', '892da162-6815-42ca-8afc-4865db5cc43e', '378f3239-d6dd-4170-9941-211ec7242564', '18a56990-e893-479d-8945-b360678d0cdf', 'c84d00f7-bc23-47e3-8da8-eaf4fd6dc804', '3ab1d845-d136-49e9-9724-9975e6daea8a', 'ead74112-f38b-46ab-bc08-4b8a03604006', 'edf1641a-a3f6-4e97-8cb6-41cdaeee1e47', '3ed88487-29a3-4dec-a4b1-2700d03333be', '6e90339c-07ad-4822-bdcc-ef1fe675fea7')\n",
            "torch.Size([32, 3, 256, 256])\n",
            "('e45fc777-20d8-41d5-8a75-bb8a5af5ac7f', '0053d67d-e316-4219-8744-5b5f01557a75', '403262a6-5ee8-47f5-91c2-990b2b8e2cfe', 'c2c32463-a968-4d53-98c8-d37d3f843699', '91d0d9eb-51e0-45cf-b936-9af85359dde3', 'dfcbe601-12d1-469a-8f98-8cda9480b4af', '93cbdfa6-c6fe-4f43-9316-578c502685f4', '7965844d-c812-4d25-85ef-4eb590c18d37', '2ea924e5-55b6-4126-ae5f-d2cb16a76c5a', '2942be5f-6893-4482-9d2d-f188b1d0292b', 'e7a296f8-7e3b-4eb0-9b6b-6947df1ea982', '9df00a5b-28f9-446c-afd3-bf7db2171bad', '268b0fb5-4986-42df-b08b-e87adf22059b', '2d6cbd12-1b68-4532-8ec9-e6237b8449a5', '2af0da5f-976d-491b-8cd8-75db69157505', '7cca26dc-09eb-40f2-b743-ce694e5dc8b5', 'a0146d39-41ae-424b-89ee-e8d941141b6b', 'a0808abc-9087-49e9-8376-d55c9cb7645e', '0d79ee0b-3379-4545-8d90-038d21bcefe7', '7f19cb19-cb25-417f-ad86-a6df44d84d6b', 'fc693cc3-2224-4a62-bee4-d9af056d5c67', 'fbf35fb3-182c-435e-a366-04ebb2d15a9d', '968c2778-2013-4111-8e46-80611e7677d3', '96803655-31d0-4a8b-985e-5423c0a62aed', '8b8413bb-344b-4870-aecf-ed2ffe6a6efd', '8ec2512e-d9ea-4604-beb3-f3a38c67dcc8', '6d74431d-0754-4d37-ae6c-b8b029e5e412', '006fb1d5-e27d-44c8-a0f2-8b2d080a195c', '85198c3b-8fd5-482b-bc2d-c4634b37fb71', 'c46d5f66-8641-4b3c-8f40-1920321882cf', '003ad516-aacb-4b9b-bc86-0e17b2d83079', '24d90ab4-96cc-49a9-ad33-3715ea4b5ca6')\n",
            "torch.Size([32, 3, 256, 256])\n",
            "('bc00aa18-0a33-4e79-a0df-845a2b4f2f83', 'c7f10fd6-0a75-4735-9a3d-3fb46f746c38', 'a246fec8-cae0-440b-8493-c15099b42fc7', 'a7991fe1-e85f-42cc-94a7-375cbb09fcdb', 'f21aa1a0-d940-40bc-b25f-665d7da23553', 'da90ea7b-9167-486a-b972-1c88ea4ba3f5', '625bb43d-018c-4393-9d9b-16e35ebdd574', '739191d9-1ee6-4ae6-b9c8-bbc3888f5429', '24451d87-d885-4b31-9464-a7046fa98332', 'f906f408-cfed-46d6-8673-197201e2d9eb', 'c3cef5a3-e489-4b2b-a6c6-05d6a4b16d95', 'b43dce08-bd4d-41f6-9b28-c0edde43d35b', '9943bc73-65f7-4838-bf2a-edb7bf36ddd6', '7ddb2769-0a20-43cd-aca9-cf8ee8211f52', '77ce6dda-d706-48ae-90de-090416d61b14', '12e07963-0720-43f5-87c3-f161c346e2c6', '51211eeb-24d9-4d99-b6ad-ae65ad89f748', '4ba27ef8-e898-435a-bc34-3d316176342f', 'ba4ecf45-d461-4538-8bb4-e603d24bb5c4', '45f57688-7596-44c9-8452-059c38d03794', '62157791-2e83-4514-a9d4-413f035e1935', '0904e027-0f90-4338-82ec-a20a245baf34', '1754b628-fb16-4895-98aa-a65247860c7d', '7a6f8536-579b-4b9b-90f5-46dc3a35c5d5', '5d1a7887-0463-4752-89a5-bf0ea8b9c06a', 'c7413b86-120a-4987-85c5-77e381dea993', '45889a9e-412a-4412-950c-00d1edece9a3', '535e98f1-5b9a-4681-bf0d-d598f7341de0', '3f453228-ef7d-4b52-b2f4-91ce1dc8b59a', 'd3c36493-92f3-4251-8f80-3b5d18a1a356', 'b8f3744c-2ce0-4db5-ac0a-a0704ba38548', 'aaa0d2e4-328d-4d81-90c2-539f0c4f7fb4')\n",
            "torch.Size([32, 3, 256, 256])\n",
            "('c8f994a0-8de0-4a55-a8e4-800f535cb0d9', '8f11e5bc-5883-41ca-9eec-d93eafda67c4', '116dd3f9-ba16-4c6f-940b-04ede230c7ae', '2f7421c9-7153-4e6f-b0e0-2c14231fd371', '83be7438-73af-4be3-a762-a08433a12f10', '6329c457-d804-42a0-9d4a-1f40a4492fdd', '1fdde686-77c1-4ecf-9bce-be31e27b626b', '3dc13fb3-9fb1-497e-99bd-c2b4edc04f41', 'd1a78521-2868-4cee-8355-0dfef16342a6', '0cf81395-b04e-4383-a15a-2ab3257c0b7d', 'e8096e1e-e231-4f38-8541-6b59a3001599', '25ed9de1-d474-4609-aa63-c7c6cf02f596', 'b42b1fc6-6ba3-42a8-bb44-7212cd7b0752', 'cdf0a940-1e91-400e-baad-caff85e6d36d', '689cd7f4-ba74-44b4-a6d6-1e5f61d091bd', '8f76c7a9-011d-4997-826a-6c3ecfd741aa', 'e74d416b-ee6f-481b-8745-3c96a6f42033', 'd2a590d0-31b3-4b85-8099-e844f7be2441', '20216194-c06a-4c72-b0bf-a91a29f2d2ab', 'bad7018c-5d9e-4a1b-b010-133ffea20dcd', '298199ea-abbb-4bb1-a87f-1967b5bb0ee1', '0f3d5c32-5f8b-4e6f-9c4e-9deebf5b8f9a', 'a13cb412-8fe3-4a1e-b245-fd702c4e9b2f', 'bfc3babf-f531-41db-9681-e5ba7b4fcbb6', 'bba5e9a3-633e-4037-bc2b-f30f24af6327', '243b773d-c12b-40ef-ac3b-4e4199da25c0', '569c6157-dca0-41ed-b368-54657694f6af', 'f7f88c0f-35f7-4310-9e87-cafd715226fc', 'c40874b2-a03e-4831-8908-0009c68e6027', 'd3c06ccc-35de-48b9-832b-7148da0f065b', 'e128b119-1d7d-4b40-8dfe-d4d109060e78', '96711064-0d5a-4170-a9cf-5e1bf6e6b29f')\n"
          ]
        },
        {
          "output_type": "error",
          "ename": "KeyboardInterrupt",
          "evalue": "ignored",
          "traceback": [
            "\u001b[0;31m---------------------------------------------------------------------------\u001b[0m",
            "\u001b[0;31mKeyboardInterrupt\u001b[0m                         Traceback (most recent call last)",
            "\u001b[0;32m<ipython-input-200-15d8a0986c18>\u001b[0m in \u001b[0;36m<cell line: 1>\u001b[0;34m()\u001b[0m\n\u001b[0;32m----> 1\u001b[0;31m \u001b[0;32mfor\u001b[0m \u001b[0midx\u001b[0m\u001b[0;34m,\u001b[0m\u001b[0;34m(\u001b[0m\u001b[0mX\u001b[0m\u001b[0;34m,\u001b[0m \u001b[0my\u001b[0m\u001b[0;34m)\u001b[0m \u001b[0;32min\u001b[0m \u001b[0menumerate\u001b[0m\u001b[0;34m(\u001b[0m\u001b[0mvalid_loader\u001b[0m\u001b[0;34m)\u001b[0m\u001b[0;34m:\u001b[0m\u001b[0;34m\u001b[0m\u001b[0;34m\u001b[0m\u001b[0m\n\u001b[0m\u001b[1;32m      2\u001b[0m     \u001b[0mprint\u001b[0m\u001b[0;34m(\u001b[0m\u001b[0mX\u001b[0m\u001b[0;34m.\u001b[0m\u001b[0msize\u001b[0m\u001b[0;34m(\u001b[0m\u001b[0;34m)\u001b[0m\u001b[0;34m)\u001b[0m\u001b[0;34m\u001b[0m\u001b[0;34m\u001b[0m\u001b[0m\n\u001b[1;32m      3\u001b[0m     \u001b[0mprint\u001b[0m\u001b[0;34m(\u001b[0m\u001b[0my\u001b[0m\u001b[0;34m)\u001b[0m\u001b[0;34m\u001b[0m\u001b[0;34m\u001b[0m\u001b[0m\n",
            "\u001b[0;32m/usr/local/lib/python3.9/dist-packages/torch/utils/data/dataloader.py\u001b[0m in \u001b[0;36m__next__\u001b[0;34m(self)\u001b[0m\n\u001b[1;32m    632\u001b[0m                 \u001b[0;31m# TODO(https://github.com/pytorch/pytorch/issues/76750)\u001b[0m\u001b[0;34m\u001b[0m\u001b[0;34m\u001b[0m\u001b[0m\n\u001b[1;32m    633\u001b[0m                 \u001b[0mself\u001b[0m\u001b[0;34m.\u001b[0m\u001b[0m_reset\u001b[0m\u001b[0;34m(\u001b[0m\u001b[0;34m)\u001b[0m  \u001b[0;31m# type: ignore[call-arg]\u001b[0m\u001b[0;34m\u001b[0m\u001b[0;34m\u001b[0m\u001b[0m\n\u001b[0;32m--> 634\u001b[0;31m             \u001b[0mdata\u001b[0m \u001b[0;34m=\u001b[0m \u001b[0mself\u001b[0m\u001b[0;34m.\u001b[0m\u001b[0m_next_data\u001b[0m\u001b[0;34m(\u001b[0m\u001b[0;34m)\u001b[0m\u001b[0;34m\u001b[0m\u001b[0;34m\u001b[0m\u001b[0m\n\u001b[0m\u001b[1;32m    635\u001b[0m             \u001b[0mself\u001b[0m\u001b[0;34m.\u001b[0m\u001b[0m_num_yielded\u001b[0m \u001b[0;34m+=\u001b[0m \u001b[0;36m1\u001b[0m\u001b[0;34m\u001b[0m\u001b[0;34m\u001b[0m\u001b[0m\n\u001b[1;32m    636\u001b[0m             \u001b[0;32mif\u001b[0m \u001b[0mself\u001b[0m\u001b[0;34m.\u001b[0m\u001b[0m_dataset_kind\u001b[0m \u001b[0;34m==\u001b[0m \u001b[0m_DatasetKind\u001b[0m\u001b[0;34m.\u001b[0m\u001b[0mIterable\u001b[0m \u001b[0;32mand\u001b[0m\u001b[0;31m \u001b[0m\u001b[0;31m\\\u001b[0m\u001b[0;34m\u001b[0m\u001b[0;34m\u001b[0m\u001b[0m\n",
            "\u001b[0;32m/usr/local/lib/python3.9/dist-packages/torch/utils/data/dataloader.py\u001b[0m in \u001b[0;36m_next_data\u001b[0;34m(self)\u001b[0m\n\u001b[1;32m    676\u001b[0m     \u001b[0;32mdef\u001b[0m \u001b[0m_next_data\u001b[0m\u001b[0;34m(\u001b[0m\u001b[0mself\u001b[0m\u001b[0;34m)\u001b[0m\u001b[0;34m:\u001b[0m\u001b[0;34m\u001b[0m\u001b[0;34m\u001b[0m\u001b[0m\n\u001b[1;32m    677\u001b[0m         \u001b[0mindex\u001b[0m \u001b[0;34m=\u001b[0m \u001b[0mself\u001b[0m\u001b[0;34m.\u001b[0m\u001b[0m_next_index\u001b[0m\u001b[0;34m(\u001b[0m\u001b[0;34m)\u001b[0m  \u001b[0;31m# may raise StopIteration\u001b[0m\u001b[0;34m\u001b[0m\u001b[0;34m\u001b[0m\u001b[0m\n\u001b[0;32m--> 678\u001b[0;31m         \u001b[0mdata\u001b[0m \u001b[0;34m=\u001b[0m \u001b[0mself\u001b[0m\u001b[0;34m.\u001b[0m\u001b[0m_dataset_fetcher\u001b[0m\u001b[0;34m.\u001b[0m\u001b[0mfetch\u001b[0m\u001b[0;34m(\u001b[0m\u001b[0mindex\u001b[0m\u001b[0;34m)\u001b[0m  \u001b[0;31m# may raise StopIteration\u001b[0m\u001b[0;34m\u001b[0m\u001b[0;34m\u001b[0m\u001b[0m\n\u001b[0m\u001b[1;32m    679\u001b[0m         \u001b[0;32mif\u001b[0m \u001b[0mself\u001b[0m\u001b[0;34m.\u001b[0m\u001b[0m_pin_memory\u001b[0m\u001b[0;34m:\u001b[0m\u001b[0;34m\u001b[0m\u001b[0;34m\u001b[0m\u001b[0m\n\u001b[1;32m    680\u001b[0m             \u001b[0mdata\u001b[0m \u001b[0;34m=\u001b[0m \u001b[0m_utils\u001b[0m\u001b[0;34m.\u001b[0m\u001b[0mpin_memory\u001b[0m\u001b[0;34m.\u001b[0m\u001b[0mpin_memory\u001b[0m\u001b[0;34m(\u001b[0m\u001b[0mdata\u001b[0m\u001b[0;34m,\u001b[0m \u001b[0mself\u001b[0m\u001b[0;34m.\u001b[0m\u001b[0m_pin_memory_device\u001b[0m\u001b[0;34m)\u001b[0m\u001b[0;34m\u001b[0m\u001b[0;34m\u001b[0m\u001b[0m\n",
            "\u001b[0;32m/usr/local/lib/python3.9/dist-packages/torch/utils/data/_utils/fetch.py\u001b[0m in \u001b[0;36mfetch\u001b[0;34m(self, possibly_batched_index)\u001b[0m\n\u001b[1;32m     49\u001b[0m                 \u001b[0mdata\u001b[0m \u001b[0;34m=\u001b[0m \u001b[0mself\u001b[0m\u001b[0;34m.\u001b[0m\u001b[0mdataset\u001b[0m\u001b[0;34m.\u001b[0m\u001b[0m__getitems__\u001b[0m\u001b[0;34m(\u001b[0m\u001b[0mpossibly_batched_index\u001b[0m\u001b[0;34m)\u001b[0m\u001b[0;34m\u001b[0m\u001b[0;34m\u001b[0m\u001b[0m\n\u001b[1;32m     50\u001b[0m             \u001b[0;32melse\u001b[0m\u001b[0;34m:\u001b[0m\u001b[0;34m\u001b[0m\u001b[0;34m\u001b[0m\u001b[0m\n\u001b[0;32m---> 51\u001b[0;31m                 \u001b[0mdata\u001b[0m \u001b[0;34m=\u001b[0m \u001b[0;34m[\u001b[0m\u001b[0mself\u001b[0m\u001b[0;34m.\u001b[0m\u001b[0mdataset\u001b[0m\u001b[0;34m[\u001b[0m\u001b[0midx\u001b[0m\u001b[0;34m]\u001b[0m \u001b[0;32mfor\u001b[0m \u001b[0midx\u001b[0m \u001b[0;32min\u001b[0m \u001b[0mpossibly_batched_index\u001b[0m\u001b[0;34m]\u001b[0m\u001b[0;34m\u001b[0m\u001b[0;34m\u001b[0m\u001b[0m\n\u001b[0m\u001b[1;32m     52\u001b[0m         \u001b[0;32melse\u001b[0m\u001b[0;34m:\u001b[0m\u001b[0;34m\u001b[0m\u001b[0;34m\u001b[0m\u001b[0m\n\u001b[1;32m     53\u001b[0m             \u001b[0mdata\u001b[0m \u001b[0;34m=\u001b[0m \u001b[0mself\u001b[0m\u001b[0;34m.\u001b[0m\u001b[0mdataset\u001b[0m\u001b[0;34m[\u001b[0m\u001b[0mpossibly_batched_index\u001b[0m\u001b[0;34m]\u001b[0m\u001b[0;34m\u001b[0m\u001b[0;34m\u001b[0m\u001b[0m\n",
            "\u001b[0;32m/usr/local/lib/python3.9/dist-packages/torch/utils/data/_utils/fetch.py\u001b[0m in \u001b[0;36m<listcomp>\u001b[0;34m(.0)\u001b[0m\n\u001b[1;32m     49\u001b[0m                 \u001b[0mdata\u001b[0m \u001b[0;34m=\u001b[0m \u001b[0mself\u001b[0m\u001b[0;34m.\u001b[0m\u001b[0mdataset\u001b[0m\u001b[0;34m.\u001b[0m\u001b[0m__getitems__\u001b[0m\u001b[0;34m(\u001b[0m\u001b[0mpossibly_batched_index\u001b[0m\u001b[0;34m)\u001b[0m\u001b[0;34m\u001b[0m\u001b[0;34m\u001b[0m\u001b[0m\n\u001b[1;32m     50\u001b[0m             \u001b[0;32melse\u001b[0m\u001b[0;34m:\u001b[0m\u001b[0;34m\u001b[0m\u001b[0;34m\u001b[0m\u001b[0m\n\u001b[0;32m---> 51\u001b[0;31m                 \u001b[0mdata\u001b[0m \u001b[0;34m=\u001b[0m \u001b[0;34m[\u001b[0m\u001b[0mself\u001b[0m\u001b[0;34m.\u001b[0m\u001b[0mdataset\u001b[0m\u001b[0;34m[\u001b[0m\u001b[0midx\u001b[0m\u001b[0;34m]\u001b[0m \u001b[0;32mfor\u001b[0m \u001b[0midx\u001b[0m \u001b[0;32min\u001b[0m \u001b[0mpossibly_batched_index\u001b[0m\u001b[0;34m]\u001b[0m\u001b[0;34m\u001b[0m\u001b[0;34m\u001b[0m\u001b[0m\n\u001b[0m\u001b[1;32m     52\u001b[0m         \u001b[0;32melse\u001b[0m\u001b[0;34m:\u001b[0m\u001b[0;34m\u001b[0m\u001b[0;34m\u001b[0m\u001b[0m\n\u001b[1;32m     53\u001b[0m             \u001b[0mdata\u001b[0m \u001b[0;34m=\u001b[0m \u001b[0mself\u001b[0m\u001b[0;34m.\u001b[0m\u001b[0mdataset\u001b[0m\u001b[0;34m[\u001b[0m\u001b[0mpossibly_batched_index\u001b[0m\u001b[0;34m]\u001b[0m\u001b[0;34m\u001b[0m\u001b[0;34m\u001b[0m\u001b[0m\n",
            "\u001b[0;32m<ipython-input-157-ceafeb3b6ee1>\u001b[0m in \u001b[0;36m__getitem__\u001b[0;34m(self, idx)\u001b[0m\n\u001b[1;32m     53\u001b[0m             \u001b[0mimage_info\u001b[0m \u001b[0;34m=\u001b[0m \u001b[0mself\u001b[0m\u001b[0;34m.\u001b[0m\u001b[0mjson_data\u001b[0m\u001b[0;34m[\u001b[0m\u001b[0;34m\"images\"\u001b[0m\u001b[0;34m]\u001b[0m\u001b[0;34m[\u001b[0m\u001b[0midx\u001b[0m\u001b[0;34m]\u001b[0m\u001b[0;34m\u001b[0m\u001b[0;34m\u001b[0m\u001b[0m\n\u001b[1;32m     54\u001b[0m             \u001b[0mfilename\u001b[0m \u001b[0;34m=\u001b[0m \u001b[0mimage_info\u001b[0m\u001b[0;34m[\u001b[0m\u001b[0;34m\"file_name\"\u001b[0m\u001b[0;34m]\u001b[0m\u001b[0;34m\u001b[0m\u001b[0;34m\u001b[0m\u001b[0m\n\u001b[0;32m---> 55\u001b[0;31m             \u001b[0mimg\u001b[0m \u001b[0;34m=\u001b[0m \u001b[0mImage\u001b[0m\u001b[0;34m.\u001b[0m\u001b[0mopen\u001b[0m\u001b[0;34m(\u001b[0m\u001b[0mos\u001b[0m\u001b[0;34m.\u001b[0m\u001b[0mpath\u001b[0m\u001b[0;34m.\u001b[0m\u001b[0mjoin\u001b[0m\u001b[0;34m(\u001b[0m\u001b[0mself\u001b[0m\u001b[0;34m.\u001b[0m\u001b[0mimg_path\u001b[0m\u001b[0;34m,\u001b[0m \u001b[0mfilename\u001b[0m\u001b[0;34m)\u001b[0m\u001b[0;34m)\u001b[0m\u001b[0;34m.\u001b[0m\u001b[0mconvert\u001b[0m\u001b[0;34m(\u001b[0m\u001b[0;34m\"RGB\"\u001b[0m\u001b[0;34m)\u001b[0m\u001b[0;34m\u001b[0m\u001b[0;34m\u001b[0m\u001b[0m\n\u001b[0m\u001b[1;32m     56\u001b[0m             \u001b[0mimg\u001b[0m \u001b[0;34m=\u001b[0m \u001b[0mself\u001b[0m\u001b[0;34m.\u001b[0m\u001b[0mtransform\u001b[0m\u001b[0;34m(\u001b[0m\u001b[0mimg\u001b[0m\u001b[0;34m)\u001b[0m\u001b[0;34m\u001b[0m\u001b[0;34m\u001b[0m\u001b[0m\n\u001b[1;32m     57\u001b[0m             \u001b[0;32mreturn\u001b[0m \u001b[0mimg\u001b[0m\u001b[0;34m,\u001b[0m \u001b[0mfilename\u001b[0m\u001b[0;34m.\u001b[0m\u001b[0msplit\u001b[0m\u001b[0;34m(\u001b[0m\u001b[0;34m\".\"\u001b[0m\u001b[0;34m)\u001b[0m\u001b[0;34m[\u001b[0m\u001b[0;36m0\u001b[0m\u001b[0;34m]\u001b[0m\u001b[0;34m\u001b[0m\u001b[0;34m\u001b[0m\u001b[0m\n",
            "\u001b[0;32m/usr/local/lib/python3.9/dist-packages/PIL/Image.py\u001b[0m in \u001b[0;36mconvert\u001b[0;34m(self, mode, matrix, dither, palette, colors)\u001b[0m\n\u001b[1;32m    913\u001b[0m         \"\"\"\n\u001b[1;32m    914\u001b[0m \u001b[0;34m\u001b[0m\u001b[0m\n\u001b[0;32m--> 915\u001b[0;31m         \u001b[0mself\u001b[0m\u001b[0;34m.\u001b[0m\u001b[0mload\u001b[0m\u001b[0;34m(\u001b[0m\u001b[0;34m)\u001b[0m\u001b[0;34m\u001b[0m\u001b[0;34m\u001b[0m\u001b[0m\n\u001b[0m\u001b[1;32m    916\u001b[0m \u001b[0;34m\u001b[0m\u001b[0m\n\u001b[1;32m    917\u001b[0m         \u001b[0mhas_transparency\u001b[0m \u001b[0;34m=\u001b[0m \u001b[0mself\u001b[0m\u001b[0;34m.\u001b[0m\u001b[0minfo\u001b[0m\u001b[0;34m.\u001b[0m\u001b[0mget\u001b[0m\u001b[0;34m(\u001b[0m\u001b[0;34m\"transparency\"\u001b[0m\u001b[0;34m)\u001b[0m \u001b[0;32mis\u001b[0m \u001b[0;32mnot\u001b[0m \u001b[0;32mNone\u001b[0m\u001b[0;34m\u001b[0m\u001b[0;34m\u001b[0m\u001b[0m\n",
            "\u001b[0;32m/usr/local/lib/python3.9/dist-packages/PIL/ImageFile.py\u001b[0m in \u001b[0;36mload\u001b[0;34m(self)\u001b[0m\n\u001b[1;32m    209\u001b[0m                     \u001b[0mself\u001b[0m\u001b[0;34m.\u001b[0m\u001b[0mmap\u001b[0m \u001b[0;34m=\u001b[0m \u001b[0;32mNone\u001b[0m\u001b[0;34m\u001b[0m\u001b[0;34m\u001b[0m\u001b[0m\n\u001b[1;32m    210\u001b[0m \u001b[0;34m\u001b[0m\u001b[0m\n\u001b[0;32m--> 211\u001b[0;31m         \u001b[0mself\u001b[0m\u001b[0;34m.\u001b[0m\u001b[0mload_prepare\u001b[0m\u001b[0;34m(\u001b[0m\u001b[0;34m)\u001b[0m\u001b[0;34m\u001b[0m\u001b[0;34m\u001b[0m\u001b[0m\n\u001b[0m\u001b[1;32m    212\u001b[0m         \u001b[0merr_code\u001b[0m \u001b[0;34m=\u001b[0m \u001b[0;34m-\u001b[0m\u001b[0;36m3\u001b[0m  \u001b[0;31m# initialize to unknown error\u001b[0m\u001b[0;34m\u001b[0m\u001b[0;34m\u001b[0m\u001b[0m\n\u001b[1;32m    213\u001b[0m         \u001b[0;32mif\u001b[0m \u001b[0;32mnot\u001b[0m \u001b[0mself\u001b[0m\u001b[0;34m.\u001b[0m\u001b[0mmap\u001b[0m\u001b[0;34m:\u001b[0m\u001b[0;34m\u001b[0m\u001b[0;34m\u001b[0m\u001b[0m\n",
            "\u001b[0;32m/usr/local/lib/python3.9/dist-packages/PIL/PngImagePlugin.py\u001b[0m in \u001b[0;36mload_prepare\u001b[0;34m(self)\u001b[0m\n\u001b[1;32m    884\u001b[0m \u001b[0;34m\u001b[0m\u001b[0m\n\u001b[1;32m    885\u001b[0m         \u001b[0mself\u001b[0m\u001b[0;34m.\u001b[0m\u001b[0m__idat\u001b[0m \u001b[0;34m=\u001b[0m \u001b[0mself\u001b[0m\u001b[0;34m.\u001b[0m\u001b[0m__prepare_idat\u001b[0m  \u001b[0;31m# used by load_read()\u001b[0m\u001b[0;34m\u001b[0m\u001b[0;34m\u001b[0m\u001b[0m\n\u001b[0;32m--> 886\u001b[0;31m         \u001b[0mImageFile\u001b[0m\u001b[0;34m.\u001b[0m\u001b[0mImageFile\u001b[0m\u001b[0;34m.\u001b[0m\u001b[0mload_prepare\u001b[0m\u001b[0;34m(\u001b[0m\u001b[0mself\u001b[0m\u001b[0;34m)\u001b[0m\u001b[0;34m\u001b[0m\u001b[0;34m\u001b[0m\u001b[0m\n\u001b[0m\u001b[1;32m    887\u001b[0m \u001b[0;34m\u001b[0m\u001b[0m\n\u001b[1;32m    888\u001b[0m     \u001b[0;32mdef\u001b[0m \u001b[0mload_read\u001b[0m\u001b[0;34m(\u001b[0m\u001b[0mself\u001b[0m\u001b[0;34m,\u001b[0m \u001b[0mread_bytes\u001b[0m\u001b[0;34m)\u001b[0m\u001b[0;34m:\u001b[0m\u001b[0;34m\u001b[0m\u001b[0;34m\u001b[0m\u001b[0m\n",
            "\u001b[0;32m/usr/local/lib/python3.9/dist-packages/PIL/ImageFile.py\u001b[0m in \u001b[0;36mload_prepare\u001b[0;34m(self)\u001b[0m\n\u001b[1;32m    279\u001b[0m         \u001b[0;31m# create image memory if necessary\u001b[0m\u001b[0;34m\u001b[0m\u001b[0;34m\u001b[0m\u001b[0m\n\u001b[1;32m    280\u001b[0m         \u001b[0;32mif\u001b[0m \u001b[0;32mnot\u001b[0m \u001b[0mself\u001b[0m\u001b[0;34m.\u001b[0m\u001b[0mim\u001b[0m \u001b[0;32mor\u001b[0m \u001b[0mself\u001b[0m\u001b[0;34m.\u001b[0m\u001b[0mim\u001b[0m\u001b[0;34m.\u001b[0m\u001b[0mmode\u001b[0m \u001b[0;34m!=\u001b[0m \u001b[0mself\u001b[0m\u001b[0;34m.\u001b[0m\u001b[0mmode\u001b[0m \u001b[0;32mor\u001b[0m \u001b[0mself\u001b[0m\u001b[0;34m.\u001b[0m\u001b[0mim\u001b[0m\u001b[0;34m.\u001b[0m\u001b[0msize\u001b[0m \u001b[0;34m!=\u001b[0m \u001b[0mself\u001b[0m\u001b[0;34m.\u001b[0m\u001b[0msize\u001b[0m\u001b[0;34m:\u001b[0m\u001b[0;34m\u001b[0m\u001b[0;34m\u001b[0m\u001b[0m\n\u001b[0;32m--> 281\u001b[0;31m             \u001b[0mself\u001b[0m\u001b[0;34m.\u001b[0m\u001b[0mim\u001b[0m \u001b[0;34m=\u001b[0m \u001b[0mImage\u001b[0m\u001b[0;34m.\u001b[0m\u001b[0mcore\u001b[0m\u001b[0;34m.\u001b[0m\u001b[0mnew\u001b[0m\u001b[0;34m(\u001b[0m\u001b[0mself\u001b[0m\u001b[0;34m.\u001b[0m\u001b[0mmode\u001b[0m\u001b[0;34m,\u001b[0m \u001b[0mself\u001b[0m\u001b[0;34m.\u001b[0m\u001b[0msize\u001b[0m\u001b[0;34m)\u001b[0m\u001b[0;34m\u001b[0m\u001b[0;34m\u001b[0m\u001b[0m\n\u001b[0m\u001b[1;32m    282\u001b[0m         \u001b[0;31m# create palette (optional)\u001b[0m\u001b[0;34m\u001b[0m\u001b[0;34m\u001b[0m\u001b[0m\n\u001b[1;32m    283\u001b[0m         \u001b[0;32mif\u001b[0m \u001b[0mself\u001b[0m\u001b[0;34m.\u001b[0m\u001b[0mmode\u001b[0m \u001b[0;34m==\u001b[0m \u001b[0;34m\"P\"\u001b[0m\u001b[0;34m:\u001b[0m\u001b[0;34m\u001b[0m\u001b[0;34m\u001b[0m\u001b[0m\n",
            "\u001b[0;31mKeyboardInterrupt\u001b[0m: "
          ]
        }
      ]
    },
    {
      "cell_type": "code",
      "source": [
        "for idx, (X, y) in enumerate(dataloader):\n",
        "    print(X.size(), y.size())\n",
        "    break"
      ],
      "metadata": {
        "colab": {
          "base_uri": "https://localhost:8080/"
        },
        "id": "kP39_XVFoWv6",
        "outputId": "1873f3b1-5f28-463d-b7c8-5262ba1a7f7e"
      },
      "execution_count": null,
      "outputs": [
        {
          "output_type": "stream",
          "name": "stdout",
          "text": [
            "torch.Size([16, 3, 512, 512]) torch.Size([16, 291])\n"
          ]
        }
      ]
    },
    {
      "cell_type": "markdown",
      "source": [
        "# **Create Model**"
      ],
      "metadata": {
        "id": "Mt1e-cZ3oyGu"
      }
    },
    {
      "cell_type": "code",
      "source": [
        "import torch\n",
        "import timm\n",
        "import torch.nn as nn\n",
        "from positional_encodings.torch_encodings import PositionalEncodingPermute2D, Summer"
      ],
      "metadata": {
        "id": "EMLjb-NCo3_o"
      },
      "execution_count": null,
      "outputs": []
    },
    {
      "cell_type": "code",
      "source": [
        "class Query2Label(nn.Module):\n",
        "\n",
        "\n",
        "    def __init__(self, \n",
        "                 backbone, num_classes, \n",
        "                 hidden_dim, d_ff, n_heads=4, \n",
        "                 encoder_layers=1, decoder_layers=2,\n",
        "                 use_pos_encoding=True):\n",
        "        super().__init__()\n",
        "        self.num_classes = num_classes\n",
        "        self.hidden_dim = hidden_dim\n",
        "        self.use_pos_encoding = use_pos_encoding\n",
        "\n",
        "        self.backbone = timm.create_model(\n",
        "            backbone, \n",
        "            pretrained=True,\n",
        "            num_classes=0,\n",
        "            global_pool=''\n",
        "        ) \n",
        "\n",
        "        out_channels = self.backbone.state_dict()[\"layer4.1.conv2.weight\"].size(0)\n",
        "        self.inputs = nn.Conv2d(out_channels, hidden_dim, 1)\n",
        "        self.transformer = nn.Transformer(\n",
        "            hidden_dim, n_heads, encoder_layers, decoder_layers, d_ff)\n",
        "\n",
        "        if self.use_pos_encoding:\n",
        "            self.pos_encoder = PositionalEncodingPermute2D(hidden_dim)\n",
        "            self.encoding_adder = Summer(self.pos_encoder)\n",
        "        self.queries = nn.Parameter(torch.rand(1, num_classes, hidden_dim))\n",
        "\n",
        "        self.classifier = nn.Linear(num_classes * hidden_dim, num_classes, bias=True)\n",
        "\n",
        "\n",
        "    def forward(self, x):\n",
        "        out = self.backbone(x)\n",
        "        h = self.inputs(out)\n",
        "        B, C, H, W = h.shape\n",
        "\n",
        "        if self.use_pos_encoding:\n",
        "            h = self.encoding_adder(h*0.1)\n",
        "\n",
        "        h = h.flatten(2).permute(2, 0, 1)\n",
        "        queries = self.queries.repeat(B, 1, 1)\n",
        "        queries = queries.transpose(0, 1)\n",
        "        \n",
        "        h = self.transformer(h, queries).transpose(0, 1)\n",
        "        h = torch.reshape(h,(B, self.num_classes * self.hidden_dim))\n",
        "\n",
        "        return self.classifier(h)"
      ],
      "metadata": {
        "id": "z62E-wTjpLv9"
      },
      "execution_count": null,
      "outputs": []
    },
    {
      "cell_type": "code",
      "source": [
        "model = Query2Label(\"resnet18\", NUM_CLASSES, 512, 1024)"
      ],
      "metadata": {
        "id": "Fmm14qq0qFTv"
      },
      "execution_count": null,
      "outputs": []
    },
    {
      "cell_type": "code",
      "source": [
        "device = torch.device(\"cuda:0\" if torch.cuda.is_available() else \"cpu\")\n",
        "model = model.to(device)"
      ],
      "metadata": {
        "id": "L6NVci2ZqYEd"
      },
      "execution_count": null,
      "outputs": []
    },
    {
      "cell_type": "code",
      "source": [
        "model.eval()\n",
        "with torch.no_grad():\n",
        "    for idx, (X, y) in enumerate(train_loader):\n",
        "        X = X.to(device)\n",
        "        y = y.to(device)\n",
        "        out = model(X)\n",
        "        print(out)\n",
        "        print(out.size(), y.size())\n",
        "        break"
      ],
      "metadata": {
        "colab": {
          "base_uri": "https://localhost:8080/"
        },
        "id": "QL_emyrzqT4B",
        "outputId": "96ea4d3b-e563-4e7f-db8a-47afb54d7647"
      },
      "execution_count": null,
      "outputs": [
        {
          "output_type": "stream",
          "name": "stdout",
          "text": [
            "tensor([[ 0.2122,  0.7947, -0.7058,  ...,  0.2939, -0.1550, -0.3889],\n",
            "        [ 0.2135,  0.7933, -0.7065,  ...,  0.2938, -0.1550, -0.3902],\n",
            "        [ 0.2125,  0.7938, -0.7072,  ...,  0.2944, -0.1556, -0.3898],\n",
            "        ...,\n",
            "        [ 0.2132,  0.7933, -0.7065,  ...,  0.2933, -0.1555, -0.3891],\n",
            "        [ 0.2126,  0.7939, -0.7059,  ...,  0.2943, -0.1548, -0.3887],\n",
            "        [ 0.2130,  0.7941, -0.7058,  ...,  0.2932, -0.1555, -0.3897]],\n",
            "       device='cuda:0')\n",
            "torch.Size([64, 291]) torch.Size([64, 291])\n"
          ]
        }
      ]
    },
    {
      "cell_type": "markdown",
      "source": [
        "# **Create trainer**"
      ],
      "metadata": {
        "id": "t0gxh05hrdFg"
      }
    },
    {
      "cell_type": "code",
      "source": [
        "import time\n",
        "from datetime import timedelta"
      ],
      "metadata": {
        "id": "Ei-1aUjE6nNK"
      },
      "execution_count": null,
      "outputs": []
    },
    {
      "cell_type": "code",
      "source": [
        "class Trainer:\n",
        "\n",
        "    def __init__(self, model, optimizer, criterion, scheduler=None):\n",
        "        self.device = torch.device(\"cuda:0\" if torch.cuda.is_available() else \"cpu\")\n",
        "        self.model = model\n",
        "        self.model = self.model.to(self.device)\n",
        "        self.optimizer = optimizer\n",
        "        self.criterion = criterion\n",
        "        self.scheduler = scheduler\n",
        "        self.train_loss = []\n",
        "        self.valid_loss = []\n",
        "        self.train_acc = []\n",
        "        self.valid_acc = []\n",
        "\n",
        "\n",
        "    def load_checkpoint(self, checkpoint):\n",
        "        params = torch.load(checkpoint) \n",
        "        self.model.load_state_dict(params[\"model\"])\n",
        "        self.optimizer.load_state_dict(params[\"optimizer\"])\n",
        "        if self.scheduler is not None:\n",
        "            self.scheduler.load_state_dict(params[\"scheduler\"])\n",
        "        self.train_loss = params[\"train_loss\"]\n",
        "        self.valid_loss = params[\"valid_loss\"]\n",
        "        self.train_acc = params[\"train_acc\"] \n",
        "        self.valid_acc = params[\"valid_acc\"]\n",
        "        print(\"Load Model Successfully\")\n",
        "\n",
        "\n",
        "    def save_checpoint(self, checkpoint):\n",
        "        params = {\n",
        "            \"model\": self.model.state_dict(),\n",
        "            \"optimizer\": self.optimizer.state_dict(),\n",
        "            \"scheduler\": None if self.scheduler is None else self.scheduler.state_dict(),\n",
        "            \"train_loss\": self.train_loss,\n",
        "            \"valid_loss\": self.valid_loss,\n",
        "            \"train_acc\": self.train_acc,\n",
        "            \"valid_acc\": self.valid_acc \n",
        "        }\n",
        "        torch.save(params, checkpoint)\n",
        "\n",
        "    \n",
        "    def get_learning_rate(self):\n",
        "        for param_group in self.optimizer.param_groups:\n",
        "            return param_group['lr']\n",
        "\n",
        "\n",
        "    def forward_step(self, dataloader, is_train=True):\n",
        "        if is_train:\n",
        "            self.model.train()\n",
        "        else:\n",
        "            self.model.eval()\n",
        "\n",
        "        loss_his = []\n",
        "        acc_his = []\n",
        "\n",
        "        for idx, (X, y) in enumerate(dataloader):    \n",
        "            st = time.time()\n",
        "            if is_train:\n",
        "                self.optimizer.zero_grad()\n",
        "            X = X.to(self.device)\n",
        "            y = y.to(self.device)\n",
        "            output = nn.Sigmoid()(self.model(X))\n",
        "            loss = self.criterion(output, y)\n",
        "            loss_his.append(loss.item())\n",
        "            loss.backward()\n",
        "            if is_train:\n",
        "                self.optimizer.step()\n",
        "                if self.scheduler is not None:\n",
        "                    self.scheduler.step()\n",
        "\n",
        "            calc_time = round(time.time() - st, 1)\n",
        "            print(\"\\r\", end=\"\")\n",
        "            end_str = \"\"\n",
        "            if idx == len(dataloader) - 1:\n",
        "                end_str = \"\\n\"\n",
        "            print(f\"Batch {idx+1}/{len(dataloader)} - Loss: {loss_his[-1]} - Time: {timedelta(seconds=int(calc_time))}/step\", end=end_str)\n",
        "        print()\n",
        "        loss_his = sum(loss_his) / len(loss_his)\n",
        "        if is_train:\n",
        "            self.train_loss.append(loss_his)\n",
        "            self.train_acc.append(0)\n",
        "        else:\n",
        "            self.valid_loss.append(loss_his)\n",
        "            self.valid_acc.append(0)\n",
        "\n",
        "        \n",
        "\n",
        "    def fit(self, epochs, train_loader, valid_loader=None):\n",
        "        for epoch in range(epochs):\n",
        "            st = time.time()\n",
        "            print(f\"Epoch {epoch+1} / {epochs}\")\n",
        "\n",
        "            self.forward_step(train_loader)\n",
        "\n",
        "            if valid_loader is not None:\n",
        "                self.forward_step(valid_loader, is_train=False)\n",
        "\n",
        "            train_loss = self.train_loss[-1]\n",
        "            # train_acc = self.train_acc[-1], self.valid_acc[-1]\n",
        "            calc_time = round(time.time() - st, 1)\n",
        "            print(f\"\\t=> Train loss: {round(train_loss, 5)} - Time: {timedelta(seconds=int(calc_time))}/epoch\")\n",
        "            # print(f\"\\t=> Train loss: {round(train_loss, 5)} - Valid loss: {round(valid_loss, 5)} - Train acc: {round(train_acc, 3)} - Valid acc: {round(valid_acc, 3)} - Time: {timedelta(seconds=int(calc_time))}/step\\n\")\n",
        "            self.save_checpoint(\"./checkpoint/model_v1.pt\")"
      ],
      "metadata": {
        "id": "LOwC_hFrrfw4"
      },
      "execution_count": null,
      "outputs": []
    },
    {
      "cell_type": "code",
      "source": [
        "!mkdir ./checkpoint"
      ],
      "metadata": {
        "id": "rCtKvgva-ngJ"
      },
      "execution_count": null,
      "outputs": []
    },
    {
      "cell_type": "code",
      "source": [
        "LEARNING_RATE = 2e-5\n",
        "WEIGHT_DECAY = 0.005\n",
        "EPOCHS = 10"
      ],
      "metadata": {
        "id": "t7KPNsLoBE59"
      },
      "execution_count": null,
      "outputs": []
    },
    {
      "cell_type": "code",
      "source": [
        "torch.cuda.empty_cache()"
      ],
      "metadata": {
        "id": "jya1RRy97sPG"
      },
      "execution_count": null,
      "outputs": []
    },
    {
      "cell_type": "code",
      "source": [
        "from timm.loss import AsymmetricLossMultiLabel"
      ],
      "metadata": {
        "id": "0fKJqn2NAuGy"
      },
      "execution_count": null,
      "outputs": []
    },
    {
      "cell_type": "code",
      "source": [
        "model = Query2Label(\"resnet18\", NUM_CLASSES, 512, 1024)\n",
        "# criterion = AsymmetricLossMultiLabel(gamma_neg=4, gamma_pos=0, clip=0.002, eps=1e-5)\n",
        "criterion = nn.BCELoss()\n",
        "optimizer = torch.optim.AdamW(\n",
        "    model.parameters(),\n",
        "    lr=LEARNING_RATE,\n",
        "    betas=(0.9, 0.999),\n",
        "    weight_decay=WEIGHT_DECAY,\n",
        ")\n",
        "# scheduler = torch.optim.lr_scheduler.OneCycleLR(\n",
        "#     optimizer, \n",
        "#     max_lr=1e-3, \n",
        "#     steps_per_epoch=len(train_loader)+1, \n",
        "#     epochs=EPOCHS, pct_start=0.2)"
      ],
      "metadata": {
        "id": "6zMvAfHEAWOY"
      },
      "execution_count": null,
      "outputs": []
    },
    {
      "cell_type": "code",
      "source": [
        "trainer = Trainer(model, optimizer, criterion)"
      ],
      "metadata": {
        "id": "liKEBvl0BWv3"
      },
      "execution_count": null,
      "outputs": []
    },
    {
      "cell_type": "code",
      "source": [
        "trainer.fit(EPOCHS, train_loader)"
      ],
      "metadata": {
        "id": "x0pBwlwtBcgR",
        "colab": {
          "base_uri": "https://localhost:8080/"
        },
        "outputId": "8a75f2f2-222f-4c7b-edcc-1057f4f75d5e"
      },
      "execution_count": null,
      "outputs": [
        {
          "output_type": "stream",
          "name": "stdout",
          "text": [
            "Epoch 1 / 10\n",
            "Batch 93/93 - Loss: 0.016901584342122078 - Time: 0:00:00/step\n",
            "\n",
            "\t=> Train loss: 0.03049 - Time: 0:04:36/epoch\n",
            "Epoch 2 / 10\n",
            "Batch 93/93 - Loss: 0.01599832810461521 - Time: 0:00:00/step\n",
            "\n",
            "\t=> Train loss: 0.01662 - Time: 0:04:39/epoch\n",
            "Epoch 3 / 10\n",
            "Batch 93/93 - Loss: 0.015275618992745876 - Time: 0:00:00/step\n",
            "\n",
            "\t=> Train loss: 0.01564 - Time: 0:04:40/epoch\n",
            "Epoch 4 / 10\n",
            "Batch 93/93 - Loss: 0.01277504675090313 - Time: 0:00:00/step\n",
            "\n",
            "\t=> Train loss: 0.01438 - Time: 0:04:38/epoch\n",
            "Epoch 5 / 10\n",
            "Batch 93/93 - Loss: 0.011837237514555454 - Time: 0:00:00/step\n",
            "\n",
            "\t=> Train loss: 0.01331 - Time: 0:04:38/epoch\n",
            "Epoch 6 / 10\n",
            "Batch 93/93 - Loss: 0.011707885190844536 - Time: 0:00:00/step\n",
            "\n",
            "\t=> Train loss: 0.0125 - Time: 0:04:37/epoch\n",
            "Epoch 7 / 10\n",
            "Batch 93/93 - Loss: 0.012751052156090736 - Time: 0:00:00/step\n",
            "\n",
            "\t=> Train loss: 0.01192 - Time: 0:04:35/epoch\n",
            "Epoch 8 / 10\n",
            "Batch 93/93 - Loss: 0.010384714230895042 - Time: 0:00:00/step\n",
            "\n",
            "\t=> Train loss: 0.01112 - Time: 0:04:35/epoch\n",
            "Epoch 9 / 10\n",
            "Batch 93/93 - Loss: 0.010497596114873886 - Time: 0:00:00/step\n",
            "\n",
            "\t=> Train loss: 0.01061 - Time: 0:04:37/epoch\n",
            "Epoch 10 / 10\n",
            "Batch 93/93 - Loss: 0.009411342442035675 - Time: 0:00:00/step\n",
            "\n",
            "\t=> Train loss: 0.01008 - Time: 0:04:38/epoch\n"
          ]
        }
      ]
    },
    {
      "cell_type": "code",
      "source": [
        "results = []\n",
        "outofsamples = []\n",
        "filenames = []\n",
        "trainer.model.eval()\n",
        "device = torch.device(\"cuda:0\" if torch.cuda.is_available() else \"cpu\")\n",
        "with torch.no_grad():\n",
        "    for idx, (X, filename) in enumerate(valid_loader):\n",
        "        imgs = X.to(device)\n",
        "        out = trainer.model(imgs)\n",
        "        out = nn.Sigmoid()(out)\n",
        "        out[out > 4e-1] = 1.0\n",
        "        out[out < 1.0] = 0.0\n",
        "        results += out.tolist()\n",
        "        filenames += filename\n",
        "        print(f\"{idx+1} / {len(valid_loader)}\")\n",
        "   "
      ],
      "metadata": {
        "colab": {
          "base_uri": "https://localhost:8080/"
        },
        "id": "1N67o-xBBkTB",
        "outputId": "610c33a2-d221-4561-a7ff-45df14d92957"
      },
      "execution_count": null,
      "outputs": [
        {
          "output_type": "stream",
          "name": "stdout",
          "text": [
            "1 / 84\n",
            "2 / 84\n",
            "3 / 84\n",
            "4 / 84\n",
            "5 / 84\n",
            "6 / 84\n",
            "7 / 84\n",
            "8 / 84\n",
            "9 / 84\n",
            "10 / 84\n",
            "11 / 84\n",
            "12 / 84\n",
            "13 / 84\n",
            "14 / 84\n",
            "15 / 84\n",
            "16 / 84\n",
            "17 / 84\n",
            "18 / 84\n",
            "19 / 84\n",
            "20 / 84\n",
            "21 / 84\n",
            "22 / 84\n",
            "23 / 84\n",
            "24 / 84\n",
            "25 / 84\n",
            "26 / 84\n",
            "27 / 84\n",
            "28 / 84\n",
            "29 / 84\n",
            "30 / 84\n",
            "31 / 84\n",
            "32 / 84\n",
            "33 / 84\n",
            "34 / 84\n",
            "35 / 84\n",
            "36 / 84\n",
            "37 / 84\n",
            "38 / 84\n",
            "39 / 84\n",
            "40 / 84\n",
            "41 / 84\n",
            "42 / 84\n",
            "43 / 84\n",
            "44 / 84\n",
            "45 / 84\n",
            "46 / 84\n",
            "47 / 84\n",
            "48 / 84\n",
            "49 / 84\n",
            "50 / 84\n",
            "51 / 84\n",
            "52 / 84\n",
            "53 / 84\n",
            "54 / 84\n",
            "55 / 84\n",
            "56 / 84\n",
            "57 / 84\n",
            "58 / 84\n",
            "59 / 84\n",
            "60 / 84\n",
            "61 / 84\n",
            "62 / 84\n",
            "63 / 84\n",
            "64 / 84\n",
            "65 / 84\n",
            "66 / 84\n",
            "67 / 84\n",
            "68 / 84\n",
            "69 / 84\n",
            "70 / 84\n",
            "71 / 84\n",
            "72 / 84\n",
            "73 / 84\n",
            "74 / 84\n",
            "75 / 84\n",
            "76 / 84\n",
            "77 / 84\n",
            "78 / 84\n",
            "79 / 84\n",
            "80 / 84\n",
            "81 / 84\n",
            "82 / 84\n",
            "83 / 84\n",
            "84 / 84\n"
          ]
        }
      ]
    },
    {
      "cell_type": "code",
      "source": [
        "data_df = {\n",
        "    \"id\": [],\n",
        "    \"categories\": [],\n",
        "    \"osd\": []\n",
        "}\n",
        "\n",
        "for filename, result in zip(filenames, results):\n",
        "    osd = 0\n",
        "    if len(result) == 0:\n",
        "        osd = 1\n",
        "    data_df[\"id\"].append(filename)\n",
        "    data_df[\"categories\"].append(result)\n",
        "    data_df[\"osd\"].append(float(osd))\n"
      ],
      "metadata": {
        "id": "QNF6TWAybDo2"
      },
      "execution_count": null,
      "outputs": []
    },
    {
      "cell_type": "code",
      "source": [
        "[len(i) for i in results]"
      ],
      "metadata": {
        "id": "uJFNBTlDXdCN"
      },
      "execution_count": null,
      "outputs": []
    },
    {
      "cell_type": "code",
      "source": [
        "df = pd.DataFrame(data_df)\n",
        "df"
      ],
      "metadata": {
        "colab": {
          "base_uri": "https://localhost:8080/",
          "height": 424
        },
        "id": "7FBaahzU4E2o",
        "outputId": "e78d99b6-620c-4e12-97a5-d427bc80084c"
      },
      "execution_count": null,
      "outputs": [
        {
          "output_type": "execute_result",
          "data": {
            "text/plain": [
              "                                         id  \\\n",
              "0      4172b65a-8b4f-4175-94e4-00187e2d5f33   \n",
              "1      9d263fd4-f786-42bf-8e0c-2d5be7c81b49   \n",
              "2      c114ccb9-cf89-4d98-807b-f8636477c6ca   \n",
              "3      95ba3acc-859b-4a99-8c30-b38a91a1be28   \n",
              "4      0c4bdb90-c715-4c01-81d1-aa7f49534ac7   \n",
              "...                                     ...   \n",
              "10739  8c6fbb81-eaeb-488e-9ca8-95d92a70505d   \n",
              "10740  f5d39dea-afb2-4ca7-b3a7-5ea35e038b98   \n",
              "10741  5833854d-3d75-4a25-b419-5e332d5ba931   \n",
              "10742  d6b50e1b-e12d-410e-ac65-437115d5b67a   \n",
              "10743  ee4d3c6b-e4e5-4073-8296-a83ad7b4fd2b   \n",
              "\n",
              "                                              categories  osd  \n",
              "0      [146, 119, 10, 70, 211, 88, 120, 1, 243, 105, ...  0.0  \n",
              "1      [52, 119, 51, 88, 116, 99, 100, 107, 125, 142,...  0.0  \n",
              "2      [51, 10, 119, 37, 259, 103, 15, 16, 160, 283, ...  0.0  \n",
              "3      [119, 51, 103, 160, 224, 120, 133, 259, 105, 2...  0.0  \n",
              "4      [51, 103, 105, 1, 119, 224, 52, 88, 120, 131, ...  0.0  \n",
              "...                                                  ...  ...  \n",
              "10739  [160, 142, 70, 67, 120, 119, 52, 71, 51, 88, 1...  0.0  \n",
              "10740  [69, 70, 142, 260, 71, 105, 120, 67, 11, 103, ...  0.0  \n",
              "10741  [160, 71, 142, 120, 70, 146, 67, 119, 105, 69,...  0.0  \n",
              "10742  [160, 51, 142, 255, 67, 103, 119, 71, 224, 120...  0.0  \n",
              "10743  [260, 11, 36, 8, 51, 39, 120, 71, 283, 44, 224...  0.0  \n",
              "\n",
              "[10744 rows x 3 columns]"
            ],
            "text/html": [
              "\n",
              "  <div id=\"df-6791024c-d6b9-4383-aa32-e823239c85d0\">\n",
              "    <div class=\"colab-df-container\">\n",
              "      <div>\n",
              "<style scoped>\n",
              "    .dataframe tbody tr th:only-of-type {\n",
              "        vertical-align: middle;\n",
              "    }\n",
              "\n",
              "    .dataframe tbody tr th {\n",
              "        vertical-align: top;\n",
              "    }\n",
              "\n",
              "    .dataframe thead th {\n",
              "        text-align: right;\n",
              "    }\n",
              "</style>\n",
              "<table border=\"1\" class=\"dataframe\">\n",
              "  <thead>\n",
              "    <tr style=\"text-align: right;\">\n",
              "      <th></th>\n",
              "      <th>id</th>\n",
              "      <th>categories</th>\n",
              "      <th>osd</th>\n",
              "    </tr>\n",
              "  </thead>\n",
              "  <tbody>\n",
              "    <tr>\n",
              "      <th>0</th>\n",
              "      <td>4172b65a-8b4f-4175-94e4-00187e2d5f33</td>\n",
              "      <td>[146, 119, 10, 70, 211, 88, 120, 1, 243, 105, ...</td>\n",
              "      <td>0.0</td>\n",
              "    </tr>\n",
              "    <tr>\n",
              "      <th>1</th>\n",
              "      <td>9d263fd4-f786-42bf-8e0c-2d5be7c81b49</td>\n",
              "      <td>[52, 119, 51, 88, 116, 99, 100, 107, 125, 142,...</td>\n",
              "      <td>0.0</td>\n",
              "    </tr>\n",
              "    <tr>\n",
              "      <th>2</th>\n",
              "      <td>c114ccb9-cf89-4d98-807b-f8636477c6ca</td>\n",
              "      <td>[51, 10, 119, 37, 259, 103, 15, 16, 160, 283, ...</td>\n",
              "      <td>0.0</td>\n",
              "    </tr>\n",
              "    <tr>\n",
              "      <th>3</th>\n",
              "      <td>95ba3acc-859b-4a99-8c30-b38a91a1be28</td>\n",
              "      <td>[119, 51, 103, 160, 224, 120, 133, 259, 105, 2...</td>\n",
              "      <td>0.0</td>\n",
              "    </tr>\n",
              "    <tr>\n",
              "      <th>4</th>\n",
              "      <td>0c4bdb90-c715-4c01-81d1-aa7f49534ac7</td>\n",
              "      <td>[51, 103, 105, 1, 119, 224, 52, 88, 120, 131, ...</td>\n",
              "      <td>0.0</td>\n",
              "    </tr>\n",
              "    <tr>\n",
              "      <th>...</th>\n",
              "      <td>...</td>\n",
              "      <td>...</td>\n",
              "      <td>...</td>\n",
              "    </tr>\n",
              "    <tr>\n",
              "      <th>10739</th>\n",
              "      <td>8c6fbb81-eaeb-488e-9ca8-95d92a70505d</td>\n",
              "      <td>[160, 142, 70, 67, 120, 119, 52, 71, 51, 88, 1...</td>\n",
              "      <td>0.0</td>\n",
              "    </tr>\n",
              "    <tr>\n",
              "      <th>10740</th>\n",
              "      <td>f5d39dea-afb2-4ca7-b3a7-5ea35e038b98</td>\n",
              "      <td>[69, 70, 142, 260, 71, 105, 120, 67, 11, 103, ...</td>\n",
              "      <td>0.0</td>\n",
              "    </tr>\n",
              "    <tr>\n",
              "      <th>10741</th>\n",
              "      <td>5833854d-3d75-4a25-b419-5e332d5ba931</td>\n",
              "      <td>[160, 71, 142, 120, 70, 146, 67, 119, 105, 69,...</td>\n",
              "      <td>0.0</td>\n",
              "    </tr>\n",
              "    <tr>\n",
              "      <th>10742</th>\n",
              "      <td>d6b50e1b-e12d-410e-ac65-437115d5b67a</td>\n",
              "      <td>[160, 51, 142, 255, 67, 103, 119, 71, 224, 120...</td>\n",
              "      <td>0.0</td>\n",
              "    </tr>\n",
              "    <tr>\n",
              "      <th>10743</th>\n",
              "      <td>ee4d3c6b-e4e5-4073-8296-a83ad7b4fd2b</td>\n",
              "      <td>[260, 11, 36, 8, 51, 39, 120, 71, 283, 44, 224...</td>\n",
              "      <td>0.0</td>\n",
              "    </tr>\n",
              "  </tbody>\n",
              "</table>\n",
              "<p>10744 rows × 3 columns</p>\n",
              "</div>\n",
              "      <button class=\"colab-df-convert\" onclick=\"convertToInteractive('df-6791024c-d6b9-4383-aa32-e823239c85d0')\"\n",
              "              title=\"Convert this dataframe to an interactive table.\"\n",
              "              style=\"display:none;\">\n",
              "        \n",
              "  <svg xmlns=\"http://www.w3.org/2000/svg\" height=\"24px\"viewBox=\"0 0 24 24\"\n",
              "       width=\"24px\">\n",
              "    <path d=\"M0 0h24v24H0V0z\" fill=\"none\"/>\n",
              "    <path d=\"M18.56 5.44l.94 2.06.94-2.06 2.06-.94-2.06-.94-.94-2.06-.94 2.06-2.06.94zm-11 1L8.5 8.5l.94-2.06 2.06-.94-2.06-.94L8.5 2.5l-.94 2.06-2.06.94zm10 10l.94 2.06.94-2.06 2.06-.94-2.06-.94-.94-2.06-.94 2.06-2.06.94z\"/><path d=\"M17.41 7.96l-1.37-1.37c-.4-.4-.92-.59-1.43-.59-.52 0-1.04.2-1.43.59L10.3 9.45l-7.72 7.72c-.78.78-.78 2.05 0 2.83L4 21.41c.39.39.9.59 1.41.59.51 0 1.02-.2 1.41-.59l7.78-7.78 2.81-2.81c.8-.78.8-2.07 0-2.86zM5.41 20L4 18.59l7.72-7.72 1.47 1.35L5.41 20z\"/>\n",
              "  </svg>\n",
              "      </button>\n",
              "      \n",
              "  <style>\n",
              "    .colab-df-container {\n",
              "      display:flex;\n",
              "      flex-wrap:wrap;\n",
              "      gap: 12px;\n",
              "    }\n",
              "\n",
              "    .colab-df-convert {\n",
              "      background-color: #E8F0FE;\n",
              "      border: none;\n",
              "      border-radius: 50%;\n",
              "      cursor: pointer;\n",
              "      display: none;\n",
              "      fill: #1967D2;\n",
              "      height: 32px;\n",
              "      padding: 0 0 0 0;\n",
              "      width: 32px;\n",
              "    }\n",
              "\n",
              "    .colab-df-convert:hover {\n",
              "      background-color: #E2EBFA;\n",
              "      box-shadow: 0px 1px 2px rgba(60, 64, 67, 0.3), 0px 1px 3px 1px rgba(60, 64, 67, 0.15);\n",
              "      fill: #174EA6;\n",
              "    }\n",
              "\n",
              "    [theme=dark] .colab-df-convert {\n",
              "      background-color: #3B4455;\n",
              "      fill: #D2E3FC;\n",
              "    }\n",
              "\n",
              "    [theme=dark] .colab-df-convert:hover {\n",
              "      background-color: #434B5C;\n",
              "      box-shadow: 0px 1px 3px 1px rgba(0, 0, 0, 0.15);\n",
              "      filter: drop-shadow(0px 1px 2px rgba(0, 0, 0, 0.3));\n",
              "      fill: #FFFFFF;\n",
              "    }\n",
              "  </style>\n",
              "\n",
              "      <script>\n",
              "        const buttonEl =\n",
              "          document.querySelector('#df-6791024c-d6b9-4383-aa32-e823239c85d0 button.colab-df-convert');\n",
              "        buttonEl.style.display =\n",
              "          google.colab.kernel.accessAllowed ? 'block' : 'none';\n",
              "\n",
              "        async function convertToInteractive(key) {\n",
              "          const element = document.querySelector('#df-6791024c-d6b9-4383-aa32-e823239c85d0');\n",
              "          const dataTable =\n",
              "            await google.colab.kernel.invokeFunction('convertToInteractive',\n",
              "                                                     [key], {});\n",
              "          if (!dataTable) return;\n",
              "\n",
              "          const docLinkHtml = 'Like what you see? Visit the ' +\n",
              "            '<a target=\"_blank\" href=https://colab.research.google.com/notebooks/data_table.ipynb>data table notebook</a>'\n",
              "            + ' to learn more about interactive tables.';\n",
              "          element.innerHTML = '';\n",
              "          dataTable['output_type'] = 'display_data';\n",
              "          await google.colab.output.renderOutput(dataTable, element);\n",
              "          const docLink = document.createElement('div');\n",
              "          docLink.innerHTML = docLinkHtml;\n",
              "          element.appendChild(docLink);\n",
              "        }\n",
              "      </script>\n",
              "    </div>\n",
              "  </div>\n",
              "  "
            ]
          },
          "metadata": {},
          "execution_count": 205
        }
      ]
    },
    {
      "cell_type": "code",
      "source": [
        "df.to_csv(\"./submission3.csv\", index=False)"
      ],
      "metadata": {
        "id": "hbAxMJVv4YC9"
      },
      "execution_count": null,
      "outputs": []
    },
    {
      "cell_type": "code",
      "source": [
        "!kaggle competitions submit -c fathomnet-out-of-sample-detection -f ./submission.csv -m \"submission\""
      ],
      "metadata": {
        "colab": {
          "base_uri": "https://localhost:8080/"
        },
        "id": "DdgU88il5qtB",
        "outputId": "efe4f9fa-dced-4dac-85d6-45a959dcbfaf"
      },
      "execution_count": null,
      "outputs": [
        {
          "output_type": "stream",
          "name": "stdout",
          "text": [
            "100% 1.11M/1.11M [00:00<00:00, 5.46MB/s]\n",
            "Successfully submitted to FathomNet 2023"
          ]
        }
      ]
    },
    {
      "cell_type": "markdown",
      "source": [
        "# **Labels distribute**"
      ],
      "metadata": {
        "id": "fM9qHrWxN4so"
      }
    },
    {
      "cell_type": "code",
      "source": [
        "import pandas as pd\n",
        "\n",
        "df = pd.read_csv(\"./multilabel_classification/train.csv\")\n",
        "df"
      ],
      "metadata": {
        "colab": {
          "base_uri": "https://localhost:8080/",
          "height": 424
        },
        "id": "FXejaNjtN7CX",
        "outputId": "97a65ec2-84f7-4df3-c6cf-270638f909f4"
      },
      "execution_count": null,
      "outputs": [
        {
          "output_type": "execute_result",
          "data": {
            "text/plain": [
              "                                        id                categories\n",
              "0     3b6f01ae-5bde-434d-9b06-79b269421ed6                     [1.0]\n",
              "1     dce21f7c-20e5-482b-bd90-c038f8464c03                     [1.0]\n",
              "2     4a7f2199-772d-486d-b8e2-b651246316b5                     [1.0]\n",
              "3     3bddedf6-4ff8-4e81-876a-564d2b03b364    [1.0, 9.0, 11.0, 88.0]\n",
              "4     3f735021-f5de-4168-b139-74bf2859d12a  [1.0, 37.0, 51.0, 119.0]\n",
              "...                                    ...                       ...\n",
              "5945  701715fe-b278-4310-ac1d-cca8ddacc830                   [283.0]\n",
              "5946  45e73fdd-d8a2-4ee1-abc7-3e34d2dfa82a                   [283.0]\n",
              "5947  676b982a-deeb-46ee-b47d-8a97a1b0c76c                   [283.0]\n",
              "5948  7e09c9a9-72e5-4374-9ed6-dae1ee2ea33d                   [286.0]\n",
              "5949  06acea78-c8b5-48fe-8678-cb24458ebc6a                   [286.0]\n",
              "\n",
              "[5950 rows x 2 columns]"
            ],
            "text/html": [
              "\n",
              "  <div id=\"df-8e932e62-b546-4e87-9229-3e4bf2a2d859\">\n",
              "    <div class=\"colab-df-container\">\n",
              "      <div>\n",
              "<style scoped>\n",
              "    .dataframe tbody tr th:only-of-type {\n",
              "        vertical-align: middle;\n",
              "    }\n",
              "\n",
              "    .dataframe tbody tr th {\n",
              "        vertical-align: top;\n",
              "    }\n",
              "\n",
              "    .dataframe thead th {\n",
              "        text-align: right;\n",
              "    }\n",
              "</style>\n",
              "<table border=\"1\" class=\"dataframe\">\n",
              "  <thead>\n",
              "    <tr style=\"text-align: right;\">\n",
              "      <th></th>\n",
              "      <th>id</th>\n",
              "      <th>categories</th>\n",
              "    </tr>\n",
              "  </thead>\n",
              "  <tbody>\n",
              "    <tr>\n",
              "      <th>0</th>\n",
              "      <td>3b6f01ae-5bde-434d-9b06-79b269421ed6</td>\n",
              "      <td>[1.0]</td>\n",
              "    </tr>\n",
              "    <tr>\n",
              "      <th>1</th>\n",
              "      <td>dce21f7c-20e5-482b-bd90-c038f8464c03</td>\n",
              "      <td>[1.0]</td>\n",
              "    </tr>\n",
              "    <tr>\n",
              "      <th>2</th>\n",
              "      <td>4a7f2199-772d-486d-b8e2-b651246316b5</td>\n",
              "      <td>[1.0]</td>\n",
              "    </tr>\n",
              "    <tr>\n",
              "      <th>3</th>\n",
              "      <td>3bddedf6-4ff8-4e81-876a-564d2b03b364</td>\n",
              "      <td>[1.0, 9.0, 11.0, 88.0]</td>\n",
              "    </tr>\n",
              "    <tr>\n",
              "      <th>4</th>\n",
              "      <td>3f735021-f5de-4168-b139-74bf2859d12a</td>\n",
              "      <td>[1.0, 37.0, 51.0, 119.0]</td>\n",
              "    </tr>\n",
              "    <tr>\n",
              "      <th>...</th>\n",
              "      <td>...</td>\n",
              "      <td>...</td>\n",
              "    </tr>\n",
              "    <tr>\n",
              "      <th>5945</th>\n",
              "      <td>701715fe-b278-4310-ac1d-cca8ddacc830</td>\n",
              "      <td>[283.0]</td>\n",
              "    </tr>\n",
              "    <tr>\n",
              "      <th>5946</th>\n",
              "      <td>45e73fdd-d8a2-4ee1-abc7-3e34d2dfa82a</td>\n",
              "      <td>[283.0]</td>\n",
              "    </tr>\n",
              "    <tr>\n",
              "      <th>5947</th>\n",
              "      <td>676b982a-deeb-46ee-b47d-8a97a1b0c76c</td>\n",
              "      <td>[283.0]</td>\n",
              "    </tr>\n",
              "    <tr>\n",
              "      <th>5948</th>\n",
              "      <td>7e09c9a9-72e5-4374-9ed6-dae1ee2ea33d</td>\n",
              "      <td>[286.0]</td>\n",
              "    </tr>\n",
              "    <tr>\n",
              "      <th>5949</th>\n",
              "      <td>06acea78-c8b5-48fe-8678-cb24458ebc6a</td>\n",
              "      <td>[286.0]</td>\n",
              "    </tr>\n",
              "  </tbody>\n",
              "</table>\n",
              "<p>5950 rows × 2 columns</p>\n",
              "</div>\n",
              "      <button class=\"colab-df-convert\" onclick=\"convertToInteractive('df-8e932e62-b546-4e87-9229-3e4bf2a2d859')\"\n",
              "              title=\"Convert this dataframe to an interactive table.\"\n",
              "              style=\"display:none;\">\n",
              "        \n",
              "  <svg xmlns=\"http://www.w3.org/2000/svg\" height=\"24px\"viewBox=\"0 0 24 24\"\n",
              "       width=\"24px\">\n",
              "    <path d=\"M0 0h24v24H0V0z\" fill=\"none\"/>\n",
              "    <path d=\"M18.56 5.44l.94 2.06.94-2.06 2.06-.94-2.06-.94-.94-2.06-.94 2.06-2.06.94zm-11 1L8.5 8.5l.94-2.06 2.06-.94-2.06-.94L8.5 2.5l-.94 2.06-2.06.94zm10 10l.94 2.06.94-2.06 2.06-.94-2.06-.94-.94-2.06-.94 2.06-2.06.94z\"/><path d=\"M17.41 7.96l-1.37-1.37c-.4-.4-.92-.59-1.43-.59-.52 0-1.04.2-1.43.59L10.3 9.45l-7.72 7.72c-.78.78-.78 2.05 0 2.83L4 21.41c.39.39.9.59 1.41.59.51 0 1.02-.2 1.41-.59l7.78-7.78 2.81-2.81c.8-.78.8-2.07 0-2.86zM5.41 20L4 18.59l7.72-7.72 1.47 1.35L5.41 20z\"/>\n",
              "  </svg>\n",
              "      </button>\n",
              "      \n",
              "  <style>\n",
              "    .colab-df-container {\n",
              "      display:flex;\n",
              "      flex-wrap:wrap;\n",
              "      gap: 12px;\n",
              "    }\n",
              "\n",
              "    .colab-df-convert {\n",
              "      background-color: #E8F0FE;\n",
              "      border: none;\n",
              "      border-radius: 50%;\n",
              "      cursor: pointer;\n",
              "      display: none;\n",
              "      fill: #1967D2;\n",
              "      height: 32px;\n",
              "      padding: 0 0 0 0;\n",
              "      width: 32px;\n",
              "    }\n",
              "\n",
              "    .colab-df-convert:hover {\n",
              "      background-color: #E2EBFA;\n",
              "      box-shadow: 0px 1px 2px rgba(60, 64, 67, 0.3), 0px 1px 3px 1px rgba(60, 64, 67, 0.15);\n",
              "      fill: #174EA6;\n",
              "    }\n",
              "\n",
              "    [theme=dark] .colab-df-convert {\n",
              "      background-color: #3B4455;\n",
              "      fill: #D2E3FC;\n",
              "    }\n",
              "\n",
              "    [theme=dark] .colab-df-convert:hover {\n",
              "      background-color: #434B5C;\n",
              "      box-shadow: 0px 1px 3px 1px rgba(0, 0, 0, 0.15);\n",
              "      filter: drop-shadow(0px 1px 2px rgba(0, 0, 0, 0.3));\n",
              "      fill: #FFFFFF;\n",
              "    }\n",
              "  </style>\n",
              "\n",
              "      <script>\n",
              "        const buttonEl =\n",
              "          document.querySelector('#df-8e932e62-b546-4e87-9229-3e4bf2a2d859 button.colab-df-convert');\n",
              "        buttonEl.style.display =\n",
              "          google.colab.kernel.accessAllowed ? 'block' : 'none';\n",
              "\n",
              "        async function convertToInteractive(key) {\n",
              "          const element = document.querySelector('#df-8e932e62-b546-4e87-9229-3e4bf2a2d859');\n",
              "          const dataTable =\n",
              "            await google.colab.kernel.invokeFunction('convertToInteractive',\n",
              "                                                     [key], {});\n",
              "          if (!dataTable) return;\n",
              "\n",
              "          const docLinkHtml = 'Like what you see? Visit the ' +\n",
              "            '<a target=\"_blank\" href=https://colab.research.google.com/notebooks/data_table.ipynb>data table notebook</a>'\n",
              "            + ' to learn more about interactive tables.';\n",
              "          element.innerHTML = '';\n",
              "          dataTable['output_type'] = 'display_data';\n",
              "          await google.colab.output.renderOutput(dataTable, element);\n",
              "          const docLink = document.createElement('div');\n",
              "          docLink.innerHTML = docLinkHtml;\n",
              "          element.appendChild(docLink);\n",
              "        }\n",
              "      </script>\n",
              "    </div>\n",
              "  </div>\n",
              "  "
            ]
          },
          "metadata": {},
          "execution_count": 146
        }
      ]
    },
    {
      "cell_type": "code",
      "source": [
        "tmp = df[\"categories\"].values.tolist()\n",
        "tmp = [i[1:-1].split(\", \") for i in tmp]\n",
        "labels = []\n",
        "for i in tmp:\n",
        "    i = [int(float(j)) for j in i]\n",
        "    labels += i"
      ],
      "metadata": {
        "id": "svm4CrA8PfB9"
      },
      "execution_count": null,
      "outputs": []
    },
    {
      "cell_type": "code",
      "source": [
        "from collections import Counter\n",
        "import matplotlib.pyplot as plt \n",
        "ct = Counter(labels)\n",
        "\n",
        "plt.bar(ct.keys(), ct.values())\n",
        "plt.show()"
      ],
      "metadata": {
        "colab": {
          "base_uri": "https://localhost:8080/",
          "height": 430
        },
        "id": "yUpI-3McOse6",
        "outputId": "51917940-7c79-4ef5-9b22-9812c1a586e8"
      },
      "execution_count": null,
      "outputs": [
        {
          "output_type": "display_data",
          "data": {
            "text/plain": [
              "<Figure size 640x480 with 1 Axes>"
            ],
            "image/png": "[encoded data removed]"
          },
          "metadata": {}
        }
      ]
    },
    {
      "cell_type": "code",
      "source": [
        "ct"
      ],
      "metadata": {
        "colab": {
          "base_uri": "https://localhost:8080/"
        },
        "id": "01eu2FCuQDUu",
        "outputId": "f0966e8a-46c3-4cb0-bb4e-28972cef5c39"
      },
      "execution_count": null,
      "outputs": [
        {
          "output_type": "execute_result",
          "data": {
            "text/plain": [
              "Counter()"
            ]
          },
          "metadata": {},
          "execution_count": 151
        }
      ]
    },
    {
      "cell_type": "code",
      "source": [],
      "metadata": {
        "id": "_W9lJT76QDhC"
      },
      "execution_count": null,
      "outputs": []
    }
  ]
}