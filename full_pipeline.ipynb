{
  "nbformat": 4,
  "nbformat_minor": 0,
  "metadata": {
    "colab": {
      "provenance": [],
      "gpuType": "T4"
    },
    "kernelspec": {
      "name": "python3",
      "display_name": "Python 3"
    },
    "language_info": {
      "name": "python"
    },
    "gpuClass": "standard",
    "accelerator": "GPU"
  },
  "cells": [
    {
      "cell_type": "code",
      "execution_count": 1,
      "metadata": {
        "id": "d24e_4qwgdjr"
      },
      "outputs": [],
      "source": [
        "! mkdir ~/.kaggle"
      ]
    },
    {
      "cell_type": "code",
      "source": [
        "!mv ./kaggle.json  ~/.kaggle/\n",
        "! chmod 600 ~/.kaggle/kaggle.json"
      ],
      "metadata": {
        "id": "5H1HwQwdhIYx"
      },
      "execution_count": 2,
      "outputs": []
    },
    {
      "cell_type": "code",
      "source": [
        "!kaggle competitions download -c fathomnet-out-of-sample-detection"
      ],
      "metadata": {
        "colab": {
          "base_uri": "https://localhost:8080/"
        },
        "id": "5YS1I9jjhLr5",
        "outputId": "0b00faed-a394-4ab8-c24f-55fb6f407a1e"
      },
      "execution_count": 3,
      "outputs": [
        {
          "output_type": "stream",
          "name": "stdout",
          "text": [
            "Downloading fathomnet-out-of-sample-detection.zip to /content\n",
            " 77% 1.00M/1.30M [00:00<00:00, 1.99MB/s]\n",
            "100% 1.30M/1.30M [00:00<00:00, 2.44MB/s]\n"
          ]
        }
      ]
    },
    {
      "cell_type": "code",
      "source": [
        "!unzip fathomnet-out-of-sample-detection.zip"
      ],
      "metadata": {
        "colab": {
          "base_uri": "https://localhost:8080/"
        },
        "id": "xuo6nleijpte",
        "outputId": "1d4788ff-33f8-447c-edd8-9de59bee5a23"
      },
      "execution_count": 8,
      "outputs": [
        {
          "output_type": "stream",
          "name": "stdout",
          "text": [
            "Archive:  fathomnet-out-of-sample-detection.zip\n",
            "  inflating: category_key.csv        \n",
            "  inflating: demo_download.ipynb     \n",
            "  inflating: download_images.py      \n",
            "  inflating: multilabel_classification/train.csv  \n",
            "  inflating: object_detection/eval.json  \n",
            "  inflating: object_detection/train.json  \n",
            "  inflating: requirements.txt        \n",
            "  inflating: sample_submission.csv   \n"
          ]
        }
      ]
    },
    {
      "cell_type": "markdown",
      "source": [
        "# **Install lib**"
      ],
      "metadata": {
        "id": "fZkvgNkMpB0U"
      }
    },
    {
      "cell_type": "code",
      "source": [
        "!pip install positional-encodings timm"
      ],
      "metadata": {
        "id": "Vb8x1HgFpBel"
      },
      "execution_count": null,
      "outputs": []
    },
    {
      "cell_type": "markdown",
      "source": [
        "# **Dataset download**"
      ],
      "metadata": {
        "id": "U9maa6UFj93M"
      }
    },
    {
      "cell_type": "code",
      "source": [
        "import os\n",
        "import json\n",
        "import requests\n",
        "from shutil import copyfileobj\n",
        "from multiprocessing.pool import ThreadPool"
      ],
      "metadata": {
        "id": "1-ipq47chZy2"
      },
      "execution_count": 1,
      "outputs": []
    },
    {
      "cell_type": "code",
      "source": [
        "def read_json(filename):\n",
        "    return json.load(open(filename, \"r\"))\n",
        "\n",
        "\n",
        "def delete_empty_files(folder_path):\n",
        "    for file_name in os.listdir(folder_path):\n",
        "        file_path = os.path.join(folder_path, file_name)\n",
        "        if os.path.isfile(file_path) and os.path.getsize(file_path) == 0:\n",
        "            os.remove(file_path)\n",
        "\n",
        "\n",
        "def download_image(image):\n",
        "    if not os.path.exists(image[0]):\n",
        "        resp = requests.get(image[1], stream=True)\n",
        "        resp.raw.decode_content = True\n",
        "        with open(image[0], 'wb') as f:\n",
        "            copyfileobj(resp.raw, f)"
      ],
      "metadata": {
        "id": "BsIAgeZDhoI6"
      },
      "execution_count": 2,
      "outputs": []
    },
    {
      "cell_type": "code",
      "source": [
        "def valid_download():\n",
        "    delete_empty_files(\"./imgs/valid/\")\n",
        "    valid_json = read_json(\"./object_detection/eval.json\")\n",
        "    valid_imgs = [\n",
        "        [\"./imgs/valid/\"+i[\"file_name\"], i[\"coco_url\"]] for i in valid_json[\"images\"] if not os.path.exists(\"./imgs/valid/\"+i[\"file_name\"])\n",
        "    ]\n",
        "    pool = ThreadPool(10000)\n",
        "    results = pool.map(download_image, valid_imgs)\n",
        "    pool.close()\n",
        "    pool.join()"
      ],
      "metadata": {
        "id": "q-IEjGX9hqCt"
      },
      "execution_count": 12,
      "outputs": []
    },
    {
      "cell_type": "code",
      "source": [
        "def train_download():\n",
        "    delete_empty_files(\"./imgs/train/\")\n",
        "    train_json = read_json(\"./object_detection/train.json\")\n",
        "    train_imgs = [\n",
        "        [\"./imgs/train/\"+i[\"file_name\"], i[\"coco_url\"]] for i in train_json[\"images\"] if not os.path.exists(\"./imgs/train/\"+i[\"file_name\"])\n",
        "    ]\n",
        "    pool = ThreadPool(10000)\n",
        "    results = pool.map(download_image, train_imgs)\n",
        "    pool.close()\n",
        "    pool.join()"
      ],
      "metadata": {
        "id": "R-Q7BNO0hrSk"
      },
      "execution_count": 13,
      "outputs": []
    },
    {
      "cell_type": "code",
      "source": [
        "if not os.path.exists(\"./imgs\"):\n",
        "    os.mkdir(\"./imgs\")\n",
        "    os.mkdir(\"./imgs/train/\")\n",
        "    os.mkdir(\"./imgs/valid/\")\n",
        "else:\n",
        "    if not os.path.exists(\"./imgs/train/\"):\n",
        "        os.mkdir(\"./imgs/train/\")\n",
        "\n",
        "    if not os.path.exists(\"./imgs/valid/\"):\n",
        "        os.mkdir(\"./imgs/valid/\")"
      ],
      "metadata": {
        "id": "olxawgTZhsZM"
      },
      "execution_count": 14,
      "outputs": []
    },
    {
      "cell_type": "code",
      "source": [
        "%%time\n",
        "train_download()"
      ],
      "metadata": {
        "colab": {
          "base_uri": "https://localhost:8080/"
        },
        "id": "cKgrhaZUhuag",
        "outputId": "e950b42d-fd53-40aa-8e9a-46316bc0e249"
      },
      "execution_count": 17,
      "outputs": [
        {
          "output_type": "stream",
          "name": "stdout",
          "text": [
            "CPU times: user 2.12 s, sys: 891 ms, total: 3.02 s\n",
            "Wall time: 3.83 s\n"
          ]
        }
      ]
    },
    {
      "cell_type": "code",
      "source": [
        "%%time \n",
        "valid_download()"
      ],
      "metadata": {
        "colab": {
          "base_uri": "https://localhost:8080/"
        },
        "id": "5a8dWxR-hw3s",
        "outputId": "65447b6a-3bdc-49ee-926a-6358dfe34b20"
      },
      "execution_count": 115,
      "outputs": [
        {
          "output_type": "stream",
          "name": "stdout",
          "text": [
            "CPU times: user 5min 42s, sys: 5min 14s, total: 10min 56s\n",
            "Wall time: 7min 49s\n"
          ]
        }
      ]
    },
    {
      "cell_type": "code",
      "source": [
        "data = read_json(\"./object_detection/train.json\")"
      ],
      "metadata": {
        "id": "6dwSnN8pidc6"
      },
      "execution_count": 3,
      "outputs": []
    },
    {
      "cell_type": "code",
      "source": [
        "data.keys()"
      ],
      "metadata": {
        "colab": {
          "base_uri": "https://localhost:8080/"
        },
        "id": "jnYSxPw_kyk6",
        "outputId": "ca69b028-acb5-488e-fd5f-d597072737dd"
      },
      "execution_count": 19,
      "outputs": [
        {
          "output_type": "execute_result",
          "data": {
            "text/plain": [
              "dict_keys(['info', 'images', 'licenses', 'annotations', 'categories'])"
            ]
          },
          "metadata": {},
          "execution_count": 19
        }
      ]
    },
    {
      "cell_type": "code",
      "source": [
        "categories = data['categories']\n",
        "categories"
      ],
      "metadata": {
        "colab": {
          "base_uri": "https://localhost:8080/"
        },
        "id": "GIoUpZc8lyDk",
        "outputId": "e89ec5d8-82b4-4ef5-b5b2-d9bfc589331d"
      },
      "execution_count": 4,
      "outputs": [
        {
          "output_type": "execute_result",
          "data": {
            "text/plain": [
              "[{'id': 1, 'name': 'Actiniaria', 'supercategory': 'Anemone'},\n",
              " {'id': 2, 'name': 'Actinernus', 'supercategory': 'Anemone'},\n",
              " {'id': 3, 'name': 'Actiniidae', 'supercategory': 'Anemone'},\n",
              " {'id': 4, 'name': 'Actinoscyphia', 'supercategory': 'Anemone'},\n",
              " {'id': 5, 'name': 'Bolocera', 'supercategory': 'Anemone'},\n",
              " {'id': 6, 'name': 'Dofleinia', 'supercategory': 'Anemone'},\n",
              " {'id': 7, 'name': 'Hormathiidae', 'supercategory': 'Anemone'},\n",
              " {'id': 8, 'name': 'Isosicyonis', 'supercategory': 'Anemone'},\n",
              " {'id': 9, 'name': 'Liponema brevicorne', 'supercategory': 'Anemone'},\n",
              " {'id': 10, 'name': 'Metridium farcimen', 'supercategory': 'Anemone'},\n",
              " {'id': 11, 'name': 'Actinopterygii', 'supercategory': 'Fish'},\n",
              " {'id': 12, 'name': 'Agonidae', 'supercategory': 'Fish'},\n",
              " {'id': 13, 'name': 'Albatrossia pectoralis', 'supercategory': 'Fish'},\n",
              " {'id': 14, 'name': 'Alepocephalus tenebrosus', 'supercategory': 'Fish'},\n",
              " {'id': 15, 'name': 'Anarrhichthys ocellatus', 'supercategory': 'Fish'},\n",
              " {'id': 16, 'name': 'Anoplopoma fimbria', 'supercategory': 'Fish'},\n",
              " {'id': 17, 'name': 'Antimora microlepis', 'supercategory': 'Fish'},\n",
              " {'id': 18, 'name': 'Bathypterois', 'supercategory': 'Fish'},\n",
              " {'id': 19, 'name': 'Bathysaurus mollis', 'supercategory': 'Fish'},\n",
              " {'id': 20, 'name': 'Careproctus', 'supercategory': 'Fish'},\n",
              " {'id': 21, 'name': 'Careproctus kamikawai', 'supercategory': 'Fish'},\n",
              " {'id': 22, 'name': 'Careproctus melanurus', 'supercategory': 'Fish'},\n",
              " {'id': 23, 'name': 'Careproctus ovigerus', 'supercategory': 'Fish'},\n",
              " {'id': 24, 'name': 'Cataetyx', 'supercategory': 'Fish'},\n",
              " {'id': 25, 'name': 'Chaunacops coloratus', 'supercategory': 'Fish'},\n",
              " {'id': 26, 'name': 'Chilara taylori', 'supercategory': 'Fish'},\n",
              " {'id': 27, 'name': 'Coryphaenoides', 'supercategory': 'Fish'},\n",
              " {'id': 28, 'name': 'Gobiidae', 'supercategory': 'Fish'},\n",
              " {'id': 29, 'name': 'Icelinus', 'supercategory': 'Fish'},\n",
              " {'id': 30, 'name': 'Icelinus filamentosus', 'supercategory': 'Fish'},\n",
              " {'id': 31, 'name': 'Lepidion', 'supercategory': 'Fish'},\n",
              " {'id': 32, 'name': 'Liparidae', 'supercategory': 'Fish'},\n",
              " {'id': 33, 'name': 'Lophiiformes', 'supercategory': 'Fish'},\n",
              " {'id': 34, 'name': 'Luciobrotula', 'supercategory': 'Fish'},\n",
              " {'id': 35, 'name': 'Lumpenus sagitta', 'supercategory': 'Fish'},\n",
              " {'id': 36, 'name': 'Macrouridae', 'supercategory': 'Fish'},\n",
              " {'id': 37, 'name': 'Merluccius productus', 'supercategory': 'Fish'},\n",
              " {'id': 38, 'name': 'Moridae', 'supercategory': 'Fish'},\n",
              " {'id': 39, 'name': 'Myctophidae', 'supercategory': 'Fish'},\n",
              " {'id': 40, 'name': 'Nezumia liolepis', 'supercategory': 'Fish'},\n",
              " {'id': 41, 'name': 'Nezumia stelgidolepis', 'supercategory': 'Fish'},\n",
              " {'id': 42, 'name': 'Ophidiidae', 'supercategory': 'Fish'},\n",
              " {'id': 43, 'name': 'Ophiodon elongatus', 'supercategory': 'Fish'},\n",
              " {'id': 44, 'name': 'Paralepididae', 'supercategory': 'Fish'},\n",
              " {'id': 45, 'name': 'Paraliparis', 'supercategory': 'Fish'},\n",
              " {'id': 46, 'name': 'Plectobranchus evides', 'supercategory': 'Fish'},\n",
              " {'id': 47, 'name': 'Porichthys mimeticus', 'supercategory': 'Fish'},\n",
              " {'id': 48, 'name': 'Psychrolutes phrictus', 'supercategory': 'Fish'},\n",
              " {'id': 49, 'name': 'Psychrolutidae', 'supercategory': 'Fish'},\n",
              " {'id': 50, 'name': 'Scorpaeniformes', 'supercategory': 'Fish'},\n",
              " {'id': 51, 'name': 'Sebastes', 'supercategory': 'Fish'},\n",
              " {'id': 52, 'name': 'Sebastolobus', 'supercategory': 'Fish'},\n",
              " {'id': 53, 'name': 'Spectrunculus grandis', 'supercategory': 'Fish'},\n",
              " {'id': 54, 'name': 'Xeneretmus', 'supercategory': 'Fish'},\n",
              " {'id': 55, 'name': 'Zaniolepis frenata', 'supercategory': 'Fish'},\n",
              " {'id': 56, 'name': 'Zaniolepis latipinnis', 'supercategory': 'Fish'},\n",
              " {'id': 57, 'name': 'Anguilliformes', 'supercategory': 'Eel'},\n",
              " {'id': 58, 'name': 'Nettastoma parviceps', 'supercategory': 'Eel'},\n",
              " {'id': 59, 'name': 'Ophichthus frontalis', 'supercategory': 'Eel'},\n",
              " {'id': 60, 'name': 'Synaphobranchidae', 'supercategory': 'Eel'},\n",
              " {'id': 61, 'name': 'Eptatretus', 'supercategory': 'Eel'},\n",
              " {'id': 62, 'name': 'Bothrocara brunneum', 'supercategory': 'Eel'},\n",
              " {'id': 63, 'name': 'Eucryphycus californicus', 'supercategory': 'Eel'},\n",
              " {'id': 64, 'name': 'Lycenchelys', 'supercategory': 'Eel'},\n",
              " {'id': 65, 'name': 'Lycenchelys crotalinus', 'supercategory': 'Eel'},\n",
              " {'id': 66, 'name': 'Lycodapus', 'supercategory': 'Eel'},\n",
              " {'id': 67, 'name': 'Lycodes', 'supercategory': 'Eel'},\n",
              " {'id': 68, 'name': 'Lycodes brevipes', 'supercategory': 'Eel'},\n",
              " {'id': 69, 'name': 'Lycodes cortezianus', 'supercategory': 'Eel'},\n",
              " {'id': 70, 'name': 'Lycodes diapterus', 'supercategory': 'Eel'},\n",
              " {'id': 71, 'name': 'Lycodes pacificus', 'supercategory': 'Eel'},\n",
              " {'id': 72, 'name': 'Pachycara bulbiceps', 'supercategory': 'Eel'},\n",
              " {'id': 73, 'name': 'Zoarcidae', 'supercategory': 'Eel'},\n",
              " {'id': 74, 'name': 'Aeolidiidae sp. 1', 'supercategory': 'Gastropod'},\n",
              " {'id': 75, 'name': 'Akoya platinum', 'supercategory': 'Gastropod'},\n",
              " {'id': 76, 'name': 'Bathybembix', 'supercategory': 'Gastropod'},\n",
              " {'id': 77, 'name': 'Bathydoris aioca', 'supercategory': 'Gastropod'},\n",
              " {'id': 78, 'name': 'Buccinidae', 'supercategory': 'Gastropod'},\n",
              " {'id': 79, 'name': 'Caenogastropoda', 'supercategory': 'Gastropod'},\n",
              " {'id': 80, 'name': 'Dendronotus patricki', 'supercategory': 'Gastropod'},\n",
              " {'id': 81, 'name': 'Gastropoda', 'supercategory': 'Gastropod'},\n",
              " {'id': 82, 'name': 'Neptunea-Buccinum Complex', 'supercategory': 'Gastropod'},\n",
              " {'id': 83, 'name': 'Nudibranchia', 'supercategory': 'Gastropod'},\n",
              " {'id': 84, 'name': 'Patellogastropoda', 'supercategory': 'Gastropod'},\n",
              " {'id': 85,\n",
              "  'name': 'Pleurobranchaea californica',\n",
              "  'supercategory': 'Gastropod'},\n",
              " {'id': 86, 'name': 'Tritonia tetraquetra', 'supercategory': 'Gastropod'},\n",
              " {'id': 87, 'name': 'Ziminella vrijenhoeki', 'supercategory': 'Gastropod'},\n",
              " {'id': 88, 'name': 'Asteroidea', 'supercategory': 'Sea star'},\n",
              " {'id': 89, 'name': 'Asthenactis', 'supercategory': 'Sea star'},\n",
              " {'id': 90, 'name': 'Astropecten', 'supercategory': 'Sea star'},\n",
              " {'id': 91, 'name': 'Benthopecten', 'supercategory': 'Sea star'},\n",
              " {'id': 92, 'name': 'Ceramaster', 'supercategory': 'Sea star'},\n",
              " {'id': 93, 'name': 'Crossaster', 'supercategory': 'Sea star'},\n",
              " {'id': 94, 'name': 'Dipsacaster eximius', 'supercategory': 'Sea star'},\n",
              " {'id': 95, 'name': 'Dytaster gilberti', 'supercategory': 'Sea star'},\n",
              " {'id': 96, 'name': 'Forcipulatida', 'supercategory': 'Sea star'},\n",
              " {'id': 97, 'name': 'Goniasteridae', 'supercategory': 'Sea star'},\n",
              " {'id': 98, 'name': 'Henricia', 'supercategory': 'Sea star'},\n",
              " {'id': 99, 'name': 'Solasteridae', 'supercategory': 'Sea star'},\n",
              " {'id': 100, 'name': 'Hippasteria', 'supercategory': 'Sea star'},\n",
              " {'id': 101, 'name': 'Hymenaster', 'supercategory': 'Sea star'},\n",
              " {'id': 102, 'name': 'Lophaster', 'supercategory': 'Sea star'},\n",
              " {'id': 103, 'name': 'Luidia foliolata', 'supercategory': 'Sea star'},\n",
              " {'id': 104, 'name': 'Mediaster', 'supercategory': 'Sea star'},\n",
              " {'id': 105, 'name': 'Mediaster aequalis', 'supercategory': 'Sea star'},\n",
              " {'id': 106, 'name': 'Mediaster tenellus', 'supercategory': 'Sea star'},\n",
              " {'id': 107, 'name': 'Myxoderma', 'supercategory': 'Sea star'},\n",
              " {'id': 108, 'name': 'Myxoderma platyacanthum', 'supercategory': 'Sea star'},\n",
              " {'id': 109, 'name': 'Myxoderma sacculatum', 'supercategory': 'Sea star'},\n",
              " {'id': 110, 'name': 'Patiria miniata', 'supercategory': 'Sea star'},\n",
              " {'id': 111, 'name': 'Paulasterias mcclaini', 'supercategory': 'Sea star'},\n",
              " {'id': 112, 'name': 'Paxillosida', 'supercategory': 'Sea star'},\n",
              " {'id': 113, 'name': 'Peribolaster biserialis', 'supercategory': 'Sea star'},\n",
              " {'id': 114, 'name': 'Poraniopsis', 'supercategory': 'Sea star'},\n",
              " {'id': 115, 'name': 'Poraniopsis inflata', 'supercategory': 'Sea star'},\n",
              " {'id': 116, 'name': 'Pterasteridae', 'supercategory': 'Sea star'},\n",
              " {'id': 117, 'name': 'Pycnopodia helianthoides', 'supercategory': 'Sea star'},\n",
              " {'id': 118, 'name': 'Pythonaster pacificus', 'supercategory': 'Sea star'},\n",
              " {'id': 119, 'name': 'Rathbunaster californicus', 'supercategory': 'Sea star'},\n",
              " {'id': 120, 'name': 'Stylasterias forreri', 'supercategory': 'Sea star'},\n",
              " {'id': 121,\n",
              "  'name': 'Thrissacanthias penicillatus',\n",
              "  'supercategory': 'Sea star'},\n",
              " {'id': 122, 'name': 'Valvatida', 'supercategory': 'Sea star'},\n",
              " {'id': 123, 'name': 'Zoroasteridae', 'supercategory': 'Sea star'},\n",
              " {'id': 124, 'name': 'Antedonidae', 'supercategory': 'Feather star'},\n",
              " {'id': 125, 'name': 'Crinoidea', 'supercategory': 'Feather star'},\n",
              " {'id': 126, 'name': 'Bathycrinidae', 'supercategory': 'Feather star'},\n",
              " {'id': 127, 'name': 'Bathymetrinae', 'supercategory': 'Feather star'},\n",
              " {'id': 128, 'name': 'Hyocrinidae', 'supercategory': 'Feather star'},\n",
              " {'id': 129,\n",
              "  'name': 'Pentametrocrinus paucispinulus',\n",
              "  'supercategory': 'Feather star'},\n",
              " {'id': 130,\n",
              "  'name': 'Abyssocucumis abyssorum',\n",
              "  'supercategory': 'Sea cucumber'},\n",
              " {'id': 131, 'name': 'Apostichopus', 'supercategory': 'Sea cucumber'},\n",
              " {'id': 132,\n",
              "  'name': 'Apostichopus californicus',\n",
              "  'supercategory': 'Sea cucumber'},\n",
              " {'id': 133,\n",
              "  'name': 'Apostichopus leukothele',\n",
              "  'supercategory': 'Sea cucumber'},\n",
              " {'id': 134, 'name': 'Benthodytes', 'supercategory': 'Sea cucumber'},\n",
              " {'id': 135, 'name': 'Benthothuria', 'supercategory': 'Sea cucumber'},\n",
              " {'id': 136, 'name': 'Elpidia', 'supercategory': 'Sea cucumber'},\n",
              " {'id': 137,\n",
              "  'name': 'Holothuria (Vaneyothuria) zacae',\n",
              "  'supercategory': 'Sea cucumber'},\n",
              " {'id': 138, 'name': 'Holothuroidea', 'supercategory': 'Sea cucumber'},\n",
              " {'id': 139, 'name': 'Laetmogone', 'supercategory': 'Sea cucumber'},\n",
              " {'id': 140,\n",
              "  'name': 'Oneirophanta mutabilis complex',\n",
              "  'supercategory': 'Sea cucumber'},\n",
              " {'id': 141,\n",
              "  'name': 'Paelopatides confundens',\n",
              "  'supercategory': 'Sea cucumber'},\n",
              " {'id': 142, 'name': 'Pannychia', 'supercategory': 'Sea cucumber'},\n",
              " {'id': 143, 'name': 'Peniagone', 'supercategory': 'Sea cucumber'},\n",
              " {'id': 144,\n",
              "  'name': 'Pseudostichopus mollis',\n",
              "  'supercategory': 'Sea cucumber'},\n",
              " {'id': 145, 'name': 'Psolidae', 'supercategory': 'Sea cucumber'},\n",
              " {'id': 146, 'name': 'Psolus squamatus', 'supercategory': 'Sea cucumber'},\n",
              " {'id': 147, 'name': 'Psychronaetes', 'supercategory': 'Sea cucumber'},\n",
              " {'id': 148, 'name': 'Psychropotes depressa', 'supercategory': 'Sea cucumber'},\n",
              " {'id': 149, 'name': 'Psychropotidae', 'supercategory': 'Sea cucumber'},\n",
              " {'id': 150, 'name': 'Scotoplanes', 'supercategory': 'Sea cucumber'},\n",
              " {'id': 151, 'name': 'Synallactes', 'supercategory': 'Sea cucumber'},\n",
              " {'id': 152, 'name': 'Aporocidaris milleri', 'supercategory': 'Urchin'},\n",
              " {'id': 153, 'name': 'Brisaster', 'supercategory': 'Urchin'},\n",
              " {'id': 154, 'name': 'Cystechinus giganteus', 'supercategory': 'Urchin'},\n",
              " {'id': 155, 'name': 'Cystechinus loveni', 'supercategory': 'Urchin'},\n",
              " {'id': 156, 'name': 'Cystocrepis setigera', 'supercategory': 'Urchin'},\n",
              " {'id': 157, 'name': 'Echinoidea', 'supercategory': 'Urchin'},\n",
              " {'id': 158, 'name': 'Echinocrepis rostrata', 'supercategory': 'Urchin'},\n",
              " {'id': 159, 'name': 'Echinothuriidae', 'supercategory': 'Urchin'},\n",
              " {'id': 160, 'name': 'Strongylocentrotus fragilis', 'supercategory': 'Urchin'},\n",
              " {'id': 161, 'name': 'Tromikosoma', 'supercategory': 'Urchin'},\n",
              " {'id': 162, 'name': 'Acanthascinae', 'supercategory': 'Glass sponge'},\n",
              " {'id': 163, 'name': 'Bathydorus', 'supercategory': 'Glass sponge'},\n",
              " {'id': 164, 'name': 'Bolosominae', 'supercategory': 'Glass sponge'},\n",
              " {'id': 165, 'name': 'Caulophacus', 'supercategory': 'Glass sponge'},\n",
              " {'id': 166, 'name': 'Chonelasma', 'supercategory': 'Glass sponge'},\n",
              " {'id': 167, 'name': 'Corbitellinae', 'supercategory': 'Glass sponge'},\n",
              " {'id': 168, 'name': 'Dictyocalyx', 'supercategory': 'Glass sponge'},\n",
              " {'id': 169, 'name': 'Docosaccus maculatus', 'supercategory': 'Glass sponge'},\n",
              " {'id': 170, 'name': 'Euplectellidae', 'supercategory': 'Glass sponge'},\n",
              " {'id': 171, 'name': 'Farrea', 'supercategory': 'Glass sponge'},\n",
              " {'id': 172,\n",
              "  'name': 'Farrea truncata complex',\n",
              "  'supercategory': 'Glass sponge'},\n",
              " {'id': 173, 'name': 'Heterochone calyx', 'supercategory': 'Glass sponge'},\n",
              " {'id': 174, 'name': 'Hexactinellida', 'supercategory': 'Glass sponge'},\n",
              " {'id': 175, 'name': 'Hyalonema', 'supercategory': 'Glass sponge'},\n",
              " {'id': 176,\n",
              "  'name': 'Hyalonema (Corynonema) populiferum',\n",
              "  'supercategory': 'Glass sponge'},\n",
              " {'id': 177,\n",
              "  'name': 'Hyalonema (Oonema) bianchoratum',\n",
              "  'supercategory': 'Glass sponge'},\n",
              " {'id': 178, 'name': 'Lyssacinosida sp. 1', 'supercategory': 'Glass sponge'},\n",
              " {'id': 179, 'name': 'Regadrella', 'supercategory': 'Glass sponge'},\n",
              " {'id': 180, 'name': 'Rossellidae', 'supercategory': 'Glass sponge'},\n",
              " {'id': 181, 'name': 'Sclerothamnopsis', 'supercategory': 'Glass sponge'},\n",
              " {'id': 182, 'name': 'Staurocalyptus', 'supercategory': 'Glass sponge'},\n",
              " {'id': 183,\n",
              "  'name': 'Staurocalyptus solidus',\n",
              "  'supercategory': 'Glass sponge'},\n",
              " {'id': 184, 'name': 'yellow ruffled sponge', 'supercategory': 'Glass sponge'},\n",
              " {'id': 185, 'name': 'Calyptrophora', 'supercategory': 'Sea fan'},\n",
              " {'id': 186, 'name': 'Chrysogorgia', 'supercategory': 'Sea fan'},\n",
              " {'id': 187, 'name': 'Chrysogorgia monticola', 'supercategory': 'Sea fan'},\n",
              " {'id': 188, 'name': 'Chrysogorgia pinnata', 'supercategory': 'Sea fan'},\n",
              " {'id': 189, 'name': 'Iridogorgia', 'supercategory': 'Sea fan'},\n",
              " {'id': 190, 'name': 'Isidella', 'supercategory': 'Sea fan'},\n",
              " {'id': 191, 'name': 'Isidella tentaculum', 'supercategory': 'Sea fan'},\n",
              " {'id': 192, 'name': 'Isididae', 'supercategory': 'Sea fan'},\n",
              " {'id': 193, 'name': 'Keratoisis', 'supercategory': 'Sea fan'},\n",
              " {'id': 194, 'name': 'Lepidisis', 'supercategory': 'Sea fan'},\n",
              " {'id': 195, 'name': 'Parastenella', 'supercategory': 'Sea fan'},\n",
              " {'id': 196, 'name': 'Primnoidae', 'supercategory': 'Sea fan'},\n",
              " {'id': 197, 'name': 'Acanthogorgia', 'supercategory': 'Sea fan'},\n",
              " {'id': 198, 'name': 'Gorgoniidae', 'supercategory': 'Sea fan'},\n",
              " {'id': 199, 'name': 'Leptogorgia', 'supercategory': 'Sea fan'},\n",
              " {'id': 200, 'name': 'Plexauridae', 'supercategory': 'Sea fan'},\n",
              " {'id': 201, 'name': 'Swiftia', 'supercategory': 'Sea fan'},\n",
              " {'id': 202, 'name': 'Swiftia kofoidi', 'supercategory': 'Sea fan'},\n",
              " {'id': 203, 'name': 'Swiftia simplex', 'supercategory': 'Sea fan'},\n",
              " {'id': 204, 'name': 'Corallium', 'supercategory': 'Sea fan'},\n",
              " {'id': 205, 'name': 'Paragorgiidae', 'supercategory': 'Sea fan'},\n",
              " {'id': 206, 'name': 'Paragorgia arborea', 'supercategory': 'Sea fan'},\n",
              " {'id': 207, 'name': 'Alcyoniidae', 'supercategory': 'Soft coral'},\n",
              " {'id': 208, 'name': 'Bathyalcyon robustum', 'supercategory': 'Soft coral'},\n",
              " {'id': 209, 'name': 'Gersemia juliepackardae', 'supercategory': 'Soft coral'},\n",
              " {'id': 210, 'name': 'Heteropolypus', 'supercategory': 'Soft coral'},\n",
              " {'id': 211, 'name': 'Heteropolypus ritteri', 'supercategory': 'Soft coral'},\n",
              " {'id': 212, 'name': 'Clavularia', 'supercategory': 'Soft coral'},\n",
              " {'id': 213, 'name': 'Stolonifera', 'supercategory': 'Soft coral'},\n",
              " {'id': 214, 'name': 'Acanthoptilum', 'supercategory': 'Sea pen'},\n",
              " {'id': 215, 'name': 'Anthoptilum grandiflorum', 'supercategory': 'Sea pen'},\n",
              " {'id': 216, 'name': 'Anthoptilum lithophilum', 'supercategory': 'Sea pen'},\n",
              " {'id': 217, 'name': 'Distichoptilum gracile', 'supercategory': 'Sea pen'},\n",
              " {'id': 218, 'name': 'Funiculina', 'supercategory': 'Sea pen'},\n",
              " {'id': 219,\n",
              "  'name': 'Funiculina-Halipteris complex',\n",
              "  'supercategory': 'Sea pen'},\n",
              " {'id': 220, 'name': 'Halipteris californica', 'supercategory': 'Sea pen'},\n",
              " {'id': 221, 'name': 'Kophobelemnidae', 'supercategory': 'Sea pen'},\n",
              " {'id': 222, 'name': 'Pennatula', 'supercategory': 'Sea pen'},\n",
              " {'id': 223, 'name': 'Pennatula phosphorea', 'supercategory': 'Sea pen'},\n",
              " {'id': 224, 'name': 'Pennatulacea', 'supercategory': 'Sea pen'},\n",
              " {'id': 225, 'name': 'Protoptilum', 'supercategory': 'Sea pen'},\n",
              " {'id': 226, 'name': 'Ptilosarcus gurneyi', 'supercategory': 'Sea pen'},\n",
              " {'id': 227, 'name': 'Stylatula', 'supercategory': 'Sea pen'},\n",
              " {'id': 228, 'name': 'Umbellula', 'supercategory': 'Sea pen'},\n",
              " {'id': 229, 'name': 'Virgulariidae', 'supercategory': 'Sea pen'},\n",
              " {'id': 230, 'name': 'Desmophyllum dianthus', 'supercategory': 'Stony coral'},\n",
              " {'id': 231,\n",
              "  'name': 'Fungiacyathus (Bathyactis) marenzelleri',\n",
              "  'supercategory': 'Stony coral'},\n",
              " {'id': 232, 'name': 'Scleractinia', 'supercategory': 'Stony coral'},\n",
              " {'id': 233, 'name': 'Alternatipathes', 'supercategory': 'Black coral'},\n",
              " {'id': 234, 'name': 'Antipatharia', 'supercategory': 'Black coral'},\n",
              " {'id': 235, 'name': 'Heteropathes', 'supercategory': 'Black coral'},\n",
              " {'id': 236, 'name': 'Lillipathes', 'supercategory': 'Black coral'},\n",
              " {'id': 237, 'name': 'Parantipathes', 'supercategory': 'Black coral'},\n",
              " {'id': 238, 'name': 'Schizopathidae', 'supercategory': 'Black coral'},\n",
              " {'id': 239, 'name': 'Umbellapathes', 'supercategory': 'Black coral'},\n",
              " {'id': 240, 'name': 'Brachyura', 'supercategory': 'Crab'},\n",
              " {'id': 241, 'name': 'Cancridae', 'supercategory': 'Crab'},\n",
              " {'id': 242, 'name': 'Chionoecetes tanneri', 'supercategory': 'Crab'},\n",
              " {'id': 243, 'name': 'Chorilia longipes', 'supercategory': 'Crab'},\n",
              " {'id': 244, 'name': 'Macroregonia macrochira', 'supercategory': 'Crab'},\n",
              " {'id': 245, 'name': 'Majidae', 'supercategory': 'Crab'},\n",
              " {'id': 246, 'name': 'Metacarcinus magister', 'supercategory': 'Crab'},\n",
              " {'id': 247, 'name': 'Lithodes couesi', 'supercategory': 'Crab'},\n",
              " {'id': 248, 'name': 'Lithodidae', 'supercategory': 'Crab'},\n",
              " {'id': 249, 'name': 'Neolithodes diomedeae', 'supercategory': 'Crab'},\n",
              " {'id': 250, 'name': 'Paralithodes rathbuni', 'supercategory': 'Crab'},\n",
              " {'id': 251, 'name': 'Paralomis', 'supercategory': 'Crab'},\n",
              " {'id': 252, 'name': 'Paralomis cf. papillata', 'supercategory': 'Crab'},\n",
              " {'id': 253, 'name': 'Paralomis multispina', 'supercategory': 'Crab'},\n",
              " {'id': 254, 'name': 'Paralomis verrilli', 'supercategory': 'Crab'},\n",
              " {'id': 255, 'name': 'Caridea', 'supercategory': 'Shrimp'},\n",
              " {'id': 256, 'name': 'Eualus macrophthalmus', 'supercategory': 'Shrimp'},\n",
              " {'id': 257, 'name': 'Pandalus', 'supercategory': 'Shrimp'},\n",
              " {'id': 258, 'name': 'Pandalus ampla', 'supercategory': 'Shrimp'},\n",
              " {'id': 259, 'name': 'Pandalus platyceros', 'supercategory': 'Shrimp'},\n",
              " {'id': 260, 'name': 'Pasiphaea', 'supercategory': 'Shrimp'},\n",
              " {'id': 261, 'name': 'Plesionika', 'supercategory': 'Shrimp'},\n",
              " {'id': 262, 'name': 'Calocarides quinqueseriatus', 'supercategory': 'Shrimp'},\n",
              " {'id': 263, 'name': 'Chirostylidae', 'supercategory': 'Squat lobster'},\n",
              " {'id': 264, 'name': 'Galatheoidea', 'supercategory': 'Squat lobster'},\n",
              " {'id': 265, 'name': 'Munida', 'supercategory': 'Squat lobster'},\n",
              " {'id': 266, 'name': 'Munida bapensis', 'supercategory': 'Squat lobster'},\n",
              " {'id': 267, 'name': 'Munida quadrispina', 'supercategory': 'Squat lobster'},\n",
              " {'id': 268, 'name': 'Munidopsis', 'supercategory': 'Squat lobster'},\n",
              " {'id': 269, 'name': 'Munidopsis depressa', 'supercategory': 'Squat lobster'},\n",
              " {'id': 270, 'name': 'Munidopsis kensmithi', 'supercategory': 'Squat lobster'},\n",
              " {'id': 271, 'name': 'Munidopsis lignaria', 'supercategory': 'Squat lobster'},\n",
              " {'id': 272, 'name': 'Munidopsis recta', 'supercategory': 'Squat lobster'},\n",
              " {'id': 273, 'name': 'Munidopsis scotti', 'supercategory': 'Squat lobster'},\n",
              " {'id': 274,\n",
              "  'name': 'Pleuroncodes planipes',\n",
              "  'supercategory': 'Squat lobster'},\n",
              " {'id': 275, 'name': 'Cirripedia', 'supercategory': 'Barnacle'},\n",
              " {'id': 276, 'name': 'Scalpellidae', 'supercategory': 'Barnacle'},\n",
              " {'id': 277, 'name': 'Verum proximum', 'supercategory': 'Barnacle'},\n",
              " {'id': 278, 'name': 'Pycnogonida', 'supercategory': 'Sea spider'},\n",
              " {'id': 279, 'name': 'Annelida', 'supercategory': 'Worm'},\n",
              " {'id': 280, 'name': 'Canalipalpata', 'supercategory': 'Worm'},\n",
              " {'id': 281, 'name': 'Echiura', 'supercategory': 'Worm'},\n",
              " {'id': 282, 'name': 'Harmothoe', 'supercategory': 'Worm'},\n",
              " {'id': 283, 'name': 'Hirudinea', 'supercategory': 'Worm'},\n",
              " {'id': 284, 'name': 'Paradiopatra', 'supercategory': 'Worm'},\n",
              " {'id': 285, 'name': 'Peinaleopolynoe orphanae', 'supercategory': 'Worm'},\n",
              " {'id': 286, 'name': 'Polychaeta', 'supercategory': 'Worm'},\n",
              " {'id': 287, 'name': 'Polynoidae', 'supercategory': 'Worm'},\n",
              " {'id': 288, 'name': 'Sabellidae', 'supercategory': 'Worm'},\n",
              " {'id': 289, 'name': 'Serpulidae', 'supercategory': 'Worm'},\n",
              " {'id': 290, 'name': 'Terebellidae', 'supercategory': 'Worm'}]"
            ]
          },
          "metadata": {},
          "execution_count": 4
        }
      ]
    },
    {
      "cell_type": "markdown",
      "source": [
        "# **Create Custom Dataset**"
      ],
      "metadata": {
        "id": "Ifagstzclkwh"
      }
    },
    {
      "cell_type": "code",
      "source": [
        "import os\n",
        "import json \n",
        "import torch\n",
        "from PIL import Image \n",
        "from torch.utils.data import Dataset, DataLoader\n",
        "import torchvision.transforms as transforms"
      ],
      "metadata": {
        "id": "M9x8CwkilnDv"
      },
      "execution_count": 5,
      "outputs": []
    },
    {
      "cell_type": "code",
      "source": [
        "class FathomDataset(Dataset):\n",
        "\n",
        "\n",
        "    def __init__(self, img_path, json_path, num_classes, img_size):\n",
        "        super().__init__()\n",
        "        self.img_path = img_path\n",
        "        self.num_classes = num_classes\n",
        "        self._load_json_data(json_path)\n",
        "        self.transform = transforms.Compose([\n",
        "            transforms.Resize((img_size, img_size)),\n",
        "            transforms.ToTensor(),\n",
        "            transforms.Normalize(\n",
        "                mean=[0.485, 0.456, 0.406], std=[0.229, 0.224, 0.225]\n",
        "            )\n",
        "        ]) \n",
        "\n",
        "\n",
        "    def _load_json_data(self, json_path):\n",
        "        self.json_data = json.load(open(json_path, \"rb\"))\n",
        "\n",
        "    \n",
        "    def __len__(self):\n",
        "        return len(self.json_data[\"images\"])\n",
        "\n",
        "\n",
        "    def get_one_hot_label(self, image_id):\n",
        "        annotations = self.json_data[\"annotations\"]\n",
        "        img_annotation = list(filter(lambda annotation: annotation[\"image_id\"] == image_id ,annotations))\n",
        "        img_annotation = list(map(lambda annotation: int(annotation[\"category_id\"]), img_annotation))\n",
        "        one_hot_vector = torch.zeros(self.num_classes)\n",
        "        one_hot_vector[img_annotation] = 1.0\n",
        "        return one_hot_vector\n",
        "\n",
        "\n",
        "    def __getitem__(self, idx):\n",
        "        image_info = self.json_data[\"images\"][idx]\n",
        "        filename = image_info[\"file_name\"]\n",
        "        img_id = image_info[\"id\"]\n",
        "\n",
        "        label = self.get_one_hot_label(img_id)        \n",
        "        img = Image.open(os.path.join(self.img_path, filename)).convert(\"RGB\")\n",
        "        img = self.transform(img)\n",
        "\n",
        "        return img, label "
      ],
      "metadata": {
        "id": "QpYaQooSlrlF"
      },
      "execution_count": 6,
      "outputs": []
    },
    {
      "cell_type": "code",
      "source": [
        "class FathomValidDataset(Dataset):\n",
        "\n",
        "    def __init__(self, img_path, json_path, img_size):\n",
        "        super().__init__()\n",
        "        self.img_path = img_path\n",
        "        self._load_json_data(json_path)\n",
        "        self.transform = transforms.Compose([\n",
        "            transforms.Resize((img_size, img_size)),\n",
        "            transforms.ToTensor(),\n",
        "            transforms.Normalize(\n",
        "                mean=[0.485, 0.456, 0.406], std=[0.229, 0.224, 0.225]\n",
        "            )\n",
        "        ]) \n",
        "\n",
        "    def _load_json_data(self, json_path):\n",
        "        self.json_data = json.load(open(json_path, \"rb\"))\n",
        "\n",
        "    \n",
        "    def __len__(self):\n",
        "        return len(self.json_data[\"images\"])\n",
        "\n",
        "\n",
        "    def __getitem__(self, idx):\n",
        "        image_info = self.json_data[\"images\"][idx]\n",
        "        filename = image_info[\"file_name\"]    \n",
        "        img = Image.open(os.path.join(self.img_path, filename)).convert(\"RGB\")\n",
        "        img = self.transform(img)\n",
        "\n",
        "        return img, filename.split(\".\")[0]"
      ],
      "metadata": {
        "id": "jAzih3T4UY32"
      },
      "execution_count": 7,
      "outputs": []
    },
    {
      "cell_type": "code",
      "source": [
        "IMG_PATH = \"./imgs/train/\"\n",
        "JSON_PATH = \"./object_detection/train.json\"\n",
        "NUM_CLASSES = len(categories) + 1 # add 1 class for \"out of sample\"\n",
        "IMG_SIZE = 256\n",
        "BATCH_SIZE = 64"
      ],
      "metadata": {
        "id": "i58bSAf_nbu7"
      },
      "execution_count": 8,
      "outputs": []
    },
    {
      "cell_type": "code",
      "source": [
        "valid_dataset = FathomValidDataset(\"./imgs/valid/\", \"./object_detection/eval.json\", IMG_SIZE)\n",
        "len(valid_dataset)"
      ],
      "metadata": {
        "colab": {
          "base_uri": "https://localhost:8080/"
        },
        "id": "jKJ7oq8NWIB1",
        "outputId": "2c645ebf-63b3-4a7a-e193-742914f1d5e4"
      },
      "execution_count": 9,
      "outputs": [
        {
          "output_type": "execute_result",
          "data": {
            "text/plain": [
              "10744"
            ]
          },
          "metadata": {},
          "execution_count": 9
        }
      ]
    },
    {
      "cell_type": "code",
      "source": [
        "dataset = FathomDataset(IMG_PATH, JSON_PATH, NUM_CLASSES, IMG_SIZE)\n",
        "len(dataset)"
      ],
      "metadata": {
        "colab": {
          "base_uri": "https://localhost:8080/"
        },
        "id": "LQ0km4p_mgSd",
        "outputId": "9f3b7791-a986-4828-cae6-26b9d2678fbb"
      },
      "execution_count": 10,
      "outputs": [
        {
          "output_type": "execute_result",
          "data": {
            "text/plain": [
              "5950"
            ]
          },
          "metadata": {},
          "execution_count": 10
        }
      ]
    },
    {
      "cell_type": "code",
      "source": [
        "dataloader = DataLoader(\n",
        "    dataset,\n",
        "    batch_size = BATCH_SIZE,\n",
        "    shuffle = True,\n",
        "    num_workers = 2    \n",
        ")\n",
        "len(dataloader)"
      ],
      "metadata": {
        "colab": {
          "base_uri": "https://localhost:8080/"
        },
        "id": "UyfYp2FqmkJZ",
        "outputId": "67417896-ed0f-4230-9193-8a83440e5b57"
      },
      "execution_count": 11,
      "outputs": [
        {
          "output_type": "execute_result",
          "data": {
            "text/plain": [
              "93"
            ]
          },
          "metadata": {},
          "execution_count": 11
        }
      ]
    },
    {
      "cell_type": "code",
      "source": [
        "for idx, (X, y) in enumerate(dataloader):\n",
        "    print(X.size(), y.size())\n",
        "    break"
      ],
      "metadata": {
        "colab": {
          "base_uri": "https://localhost:8080/"
        },
        "id": "kP39_XVFoWv6",
        "outputId": "1873f3b1-5f28-463d-b7c8-5262ba1a7f7e"
      },
      "execution_count": 14,
      "outputs": [
        {
          "output_type": "stream",
          "name": "stdout",
          "text": [
            "torch.Size([16, 3, 512, 512]) torch.Size([16, 291])\n"
          ]
        }
      ]
    },
    {
      "cell_type": "markdown",
      "source": [
        "# **Create Model**"
      ],
      "metadata": {
        "id": "Mt1e-cZ3oyGu"
      }
    },
    {
      "cell_type": "code",
      "source": [
        "import torch\n",
        "import timm\n",
        "import torch.nn as nn\n",
        "from positional_encodings.torch_encodings import PositionalEncodingPermute2D, Summer"
      ],
      "metadata": {
        "id": "EMLjb-NCo3_o"
      },
      "execution_count": 12,
      "outputs": []
    },
    {
      "cell_type": "code",
      "source": [
        "class Query2Label(nn.Module):\n",
        "\n",
        "\n",
        "    def __init__(self, \n",
        "                 backbone, conv_out, num_classes, \n",
        "                 hidden_dim=256, n_heads=4, \n",
        "                 encoder_layers=1, decoder_layers=2,\n",
        "                 use_pos_encoding=True):\n",
        "        super().__init__()\n",
        "        self.num_classes = num_classes\n",
        "        self.hidden_dim = hidden_dim\n",
        "        self.use_pos_encoding = use_pos_encoding\n",
        "\n",
        "        self.backbone = timm.create_model(\n",
        "            backbone, \n",
        "            pretrained=True,\n",
        "            num_classes=0,\n",
        "            global_pool=''\n",
        "        ) \n",
        "\n",
        "        self.conv = nn.Conv2d(conv_out, hidden_dim, 1)\n",
        "        self.transformer = nn.Transformer(\n",
        "            hidden_dim, n_heads, encoder_layers, decoder_layers)\n",
        "\n",
        "        if self.use_pos_encoding:\n",
        "            self.pos_encoder = PositionalEncodingPermute2D(hidden_dim)\n",
        "            self.encoding_adder = Summer(self.pos_encoder)\n",
        "\n",
        "        self.classifier = nn.Linear(num_classes * hidden_dim, num_classes)\n",
        "        self.label_emb = nn.Parameter(torch.rand(1, num_classes, hidden_dim))\n",
        "\n",
        "\n",
        "    def forward(self, x):\n",
        "        out = self.backbone(x)\n",
        "        h = self.conv(out)\n",
        "        B, C, H, W = h.shape\n",
        "\n",
        "        if self.use_pos_encoding:\n",
        "            h = self.encoding_adder(h*0.1)\n",
        "\n",
        "        h = h.flatten(2).permute(2, 0, 1)\n",
        "        label_emb = self.label_emb.repeat(B, 1, 1)\n",
        "        label_emb = label_emb.transpose(0, 1)\n",
        "        \n",
        "        h = self.transformer(h, label_emb).transpose(0, 1)\n",
        "        h = torch.reshape(h,(B, self.num_classes * self.hidden_dim))\n",
        "\n",
        "        return self.classifier(h)"
      ],
      "metadata": {
        "id": "z62E-wTjpLv9"
      },
      "execution_count": 13,
      "outputs": []
    },
    {
      "cell_type": "code",
      "source": [
        "model = Query2Label(\"resnet18\", 512, NUM_CLASSES)"
      ],
      "metadata": {
        "id": "Fmm14qq0qFTv"
      },
      "execution_count": 34,
      "outputs": []
    },
    {
      "cell_type": "code",
      "source": [
        "device = torch.device(\"cuda:0\" if torch.cuda.is_available() else \"cpu\")\n",
        "model = model.to(device)"
      ],
      "metadata": {
        "id": "L6NVci2ZqYEd"
      },
      "execution_count": null,
      "outputs": []
    },
    {
      "cell_type": "code",
      "source": [
        "model.eval()\n",
        "with torch.no_grad():\n",
        "    for idx, (X, y) in enumerate(dataloader):\n",
        "        X = X.to(device)\n",
        "        y = y.to(device)\n",
        "        out = model(X)\n",
        "        print(out)\n",
        "        print(out.size(), y.size())\n",
        "        break"
      ],
      "metadata": {
        "colab": {
          "base_uri": "https://localhost:8080/"
        },
        "id": "QL_emyrzqT4B",
        "outputId": "570e3569-01a6-475f-a2cb-0007a6f2e69d"
      },
      "execution_count": 16,
      "outputs": [
        {
          "output_type": "stream",
          "name": "stdout",
          "text": [
            "tensor([[-0.8148,  0.6778, -0.4798,  ..., -0.2236,  1.1426, -0.2874],\n",
            "        [-0.8167,  0.7080, -0.4959,  ..., -0.1907,  1.1439, -0.3379],\n",
            "        [-0.8200,  0.6894, -0.4542,  ..., -0.1829,  1.1446, -0.3175],\n",
            "        ...,\n",
            "        [-0.8633,  0.6708, -0.4681,  ..., -0.1885,  1.1067, -0.2975],\n",
            "        [-0.8411,  0.7228, -0.4287,  ..., -0.2020,  1.0985, -0.3126],\n",
            "        [-0.8228,  0.6820, -0.4717,  ..., -0.2069,  1.1262, -0.3112]],\n",
            "       device='cuda:0')\n",
            "torch.Size([64, 291]) torch.Size([64, 291])\n"
          ]
        }
      ]
    },
    {
      "cell_type": "markdown",
      "source": [
        "# **Create trainer**"
      ],
      "metadata": {
        "id": "t0gxh05hrdFg"
      }
    },
    {
      "cell_type": "code",
      "source": [
        "import time\n",
        "from datetime import timedelta"
      ],
      "metadata": {
        "id": "Ei-1aUjE6nNK"
      },
      "execution_count": 17,
      "outputs": []
    },
    {
      "cell_type": "code",
      "source": [
        "class Trainer:\n",
        "\n",
        "    def __init__(self, model, optimizer, criterion, scheduler=None):\n",
        "        self.device = torch.device(\"cuda:0\" if torch.cuda.is_available() else \"cpu\")\n",
        "        self.model = model\n",
        "        self.model = self.model.to(self.device)\n",
        "        self.optimizer = optimizer\n",
        "        self.criterion = criterion\n",
        "        self.scheduler = scheduler\n",
        "        self.train_loss = []\n",
        "        self.valid_loss = []\n",
        "        self.train_acc = []\n",
        "        self.valid_acc = []\n",
        "\n",
        "\n",
        "    def load_checkpoint(self, checkpoint):\n",
        "        params = torch.load(checkpoint) \n",
        "        self.model.load_state_dict(params[\"model\"])\n",
        "        self.optimizer.load_state_dict(params[\"optimizer\"])\n",
        "        if self.scheduler is not None:\n",
        "            self.scheduler.load_state_dict(params[\"scheduler\"])\n",
        "        self.train_loss = params[\"train_loss\"]\n",
        "        self.valid_loss = params[\"valid_loss\"]\n",
        "        self.train_acc = params[\"train_acc\"] \n",
        "        self.valid_acc = params[\"valid_acc\"]\n",
        "        print(\"Load Model Successfully\")\n",
        "\n",
        "\n",
        "    def save_checpoint(self, checkpoint):\n",
        "        params = {\n",
        "            \"model\": self.model.state_dict(),\n",
        "            \"optimizer\": self.optimizer.state_dict(),\n",
        "            \"scheduler\": None if self.scheduler is None else self.scheduler.state_dict(),\n",
        "            \"train_loss\": self.train_loss,\n",
        "            \"valid_loss\": self.valid_loss,\n",
        "            \"train_acc\": self.train_acc,\n",
        "            \"valid_acc\": self.valid_acc \n",
        "        }\n",
        "        torch.save(params, checkpoint)\n",
        "\n",
        "\n",
        "    def forward_step(self, dataloader, is_train=True):\n",
        "        if is_train:\n",
        "            self.model.train()\n",
        "        else:\n",
        "            self.model.eval()\n",
        "\n",
        "        loss_his = []\n",
        "        acc_his = []\n",
        "\n",
        "        for idx, (X, y) in enumerate(dataloader):    \n",
        "            st = time.time()\n",
        "            X = X.to(self.device)\n",
        "            y = y.to(self.device)\n",
        "            if is_train:\n",
        "                self.optimizer.zero_grad()\n",
        "            output = self.model(X)\n",
        "            loss = self.criterion(output, y)\n",
        "            if is_train:\n",
        "                loss.backward()\n",
        "                self.optimizer.step()\n",
        "                if self.scheduler is not None:\n",
        "                    self.scheduler.step()\n",
        "            \n",
        "            loss_his.append(loss.item())\n",
        "            calc_time = round(time.time() - st, 1)\n",
        "            print(\"\\r\", end=\"\")\n",
        "            end_str = \"\"\n",
        "            if idx == len(dataloader) - 1:\n",
        "                end_str = \"\\n\"\n",
        "            print(f\"Batch {idx+1}/{len(dataloader)} - Loss: {loss_his[-1]} - Time: {timedelta(seconds=int(calc_time))}/step\", end=end_str)\n",
        "        print()\n",
        "        loss_his = sum(loss_his) / len(loss_his)\n",
        "        if is_train:\n",
        "            self.train_loss.append(loss_his)\n",
        "            self.train_acc.append(0)\n",
        "        else:\n",
        "            self.valid_loss.append(loss_his)\n",
        "            self.valid_acc.append(0)\n",
        "\n",
        "        \n",
        "\n",
        "    def fit(self, epochs, train_loader, valid_loader=None):\n",
        "        for epoch in range(epochs):\n",
        "            st = time.time()\n",
        "            print(f\"Epoch {epoch+1} / {epochs}\")\n",
        "\n",
        "            self.forward_step(train_loader)\n",
        "\n",
        "            if valid_loader is not None:\n",
        "                self.forward_step(valid_loader, is_train=False)\n",
        "\n",
        "            train_loss = self.train_loss[-1]\n",
        "            # train_acc = self.train_acc[-1], self.valid_acc[-1]\n",
        "            calc_time = round(time.time() - st, 1)\n",
        "            print(f\"\\t=> Train loss: {round(train_loss, 5)} - Time: {timedelta(seconds=int(calc_time))}/epoch\")\n",
        "            # print(f\"\\t=> Train loss: {round(train_loss, 5)} - Valid loss: {round(valid_loss, 5)} - Train acc: {round(train_acc, 3)} - Valid acc: {round(valid_acc, 3)} - Time: {timedelta(seconds=int(calc_time))}/step\\n\")\n",
        "            self.save_checpoint(\"./checkpoint/model_v1.pt\")"
      ],
      "metadata": {
        "id": "LOwC_hFrrfw4"
      },
      "execution_count": 30,
      "outputs": []
    },
    {
      "cell_type": "code",
      "source": [
        "!mkdir ./checkpoint"
      ],
      "metadata": {
        "id": "rCtKvgva-ngJ"
      },
      "execution_count": 74,
      "outputs": []
    },
    {
      "cell_type": "code",
      "source": [
        "LEARNING_RATE = 5e-5\n",
        "WEIGHT_DECAY = 0.005\n",
        "EPOCHS = 10"
      ],
      "metadata": {
        "id": "t7KPNsLoBE59"
      },
      "execution_count": 19,
      "outputs": []
    },
    {
      "cell_type": "code",
      "source": [
        "criterion = nn.BCELoss()\n",
        "optimizer = torch.optim.AdamW(\n",
        "    model.parameters(),\n",
        "    lr=LEARNING_RATE,\n",
        "    betas=(0.9, 0.999),\n",
        "    weight_decay=WEIGHT_DECAY,\n",
        ")\n",
        "# scheduler = torch.optim.lr_scheduler.OneCycleLR(\n",
        "#     optimizer,\n",
        "#     LEARNING_RATE,\n",
        "#     epochs=EPOCHS,\n",
        "#     steps_per_epoch=len(dataloader) + 1,\n",
        "#     anneal_strategy=\"cos\",\n",
        "# )"
      ],
      "metadata": {
        "id": "6zMvAfHEAWOY"
      },
      "execution_count": 31,
      "outputs": []
    },
    {
      "cell_type": "code",
      "source": [
        "trainer = Trainer(model, optimizer, criterion)"
      ],
      "metadata": {
        "id": "liKEBvl0BWv3"
      },
      "execution_count": 32,
      "outputs": []
    },
    {
      "cell_type": "code",
      "source": [
        "trainer.fit(EPOCHS, dataloader)"
      ],
      "metadata": {
        "id": "x0pBwlwtBcgR"
      },
      "execution_count": null,
      "outputs": []
    },
    {
      "cell_type": "code",
      "source": [
        "results = []\n",
        "trainer.model.eval()\n",
        "with torch.no_grad():\n",
        "    for idx in range(len(valid_dataset)):\n",
        "        img, idx = valid_dataset[idx]\n",
        "        device = torch.device(\"cuda:0\" if torch.cuda.is_available() else \"cpu\")\n",
        "        img = img.unsqueeze(0).to(device)\n",
        "        output = trainer.model(img)\n",
        "        output = nn.Sigmoid()(output)\n",
        "        print(output)\n",
        "        break "
      ],
      "metadata": {
        "colab": {
          "base_uri": "https://localhost:8080/"
        },
        "id": "1N67o-xBBkTB",
        "outputId": "cf0d1faa-cb28-4d8c-c2f8-ac36572d247e"
      },
      "execution_count": 86,
      "outputs": [
        {
          "output_type": "stream",
          "name": "stdout",
          "text": [
            "tensor([[1.7287e-06, 5.3291e-08, 6.6239e-07, 1.8638e-06, 2.5507e-06, 1.8966e-06,\n",
            "         1.6543e-06, 2.3695e-05, 6.7559e-10, 1.9826e-07, 7.2671e-07, 2.8783e-06,\n",
            "         3.1366e-07, 7.1223e-05, 6.5049e-05, 1.0801e-04, 3.0235e-03, 9.6589e-07,\n",
            "         1.4305e-06, 1.7218e-06, 6.0739e-05, 3.5432e-06, 1.7922e-04, 1.9563e-06,\n",
            "         1.0555e-06, 3.8007e-06, 8.2067e-06, 1.2921e-03, 6.4806e-05, 2.1417e-07,\n",
            "         1.7412e-04, 9.0976e-07, 9.1950e-07, 2.7992e-06, 2.5357e-06, 2.2001e-07,\n",
            "         6.4538e-06, 9.8788e-05, 1.1027e-06, 9.9283e-06, 1.4752e-06, 1.3767e-06,\n",
            "         2.2536e-06, 2.8475e-06, 4.1528e-05, 1.9369e-06, 4.9198e-05, 1.3035e-06,\n",
            "         1.1294e-06, 1.6748e-06, 1.8185e-06, 1.2398e-06, 6.0605e-04, 9.1166e-07,\n",
            "         3.7756e-06, 2.2454e-04, 7.6120e-05, 7.2596e-07, 1.6242e-06, 2.1294e-06,\n",
            "         1.5966e-06, 9.9052e-04, 1.6396e-06, 8.3086e-06, 1.2578e-05, 5.4550e-06,\n",
            "         1.8667e-04, 4.1728e-08, 6.2181e-06, 7.5864e-03, 1.1591e-05, 1.9221e-06,\n",
            "         1.2602e-06, 5.2557e-10, 1.9932e-09, 4.0057e-05, 1.9094e-06, 1.4322e-06,\n",
            "         1.4489e-06, 2.2603e-06, 2.6837e-06, 5.4603e-04, 8.4432e-06, 3.1101e-06,\n",
            "         1.6719e-06, 6.0566e-09, 9.3629e-04, 1.2965e-07, 1.4879e-04, 2.0946e-07,\n",
            "         7.8958e-07, 2.7394e-07, 4.7455e-06, 4.4600e-05, 9.8351e-06, 1.8980e-06,\n",
            "         6.8116e-08, 3.2439e-06, 1.0533e-05, 1.2708e-05, 2.0337e-06, 3.1908e-05,\n",
            "         1.3897e-06, 1.6108e-07, 1.4003e-04, 1.0406e-07, 2.2999e-06, 9.9665e-05,\n",
            "         2.7769e-04, 2.0849e-06, 6.0078e-06, 1.9660e-06, 1.3850e-06, 9.9416e-07,\n",
            "         1.2049e-05, 5.9327e-05, 1.1467e-02, 8.1129e-10, 2.3573e-06, 6.9121e-08,\n",
            "         3.0692e-05, 4.1722e-06, 2.1017e-06, 1.8067e-06, 4.1962e-07, 8.9394e-09,\n",
            "         1.5594e-06, 1.2101e-06, 1.5218e-06, 2.0471e-06, 2.2446e-06, 7.1570e-10,\n",
            "         4.3305e-07, 6.0574e-09, 9.3795e-07, 1.4780e-06, 1.3919e-06, 2.0303e-06,\n",
            "         1.7114e-05, 1.2289e-06, 1.0114e-06, 1.0068e-06, 4.6353e-02, 1.7065e-06,\n",
            "         2.0567e-06, 2.6229e-06, 3.0999e-05, 1.7857e-06, 1.3330e-06, 2.2372e-06,\n",
            "         1.6758e-06, 1.3923e-06, 3.4652e-06, 1.0226e-06, 1.0185e-06, 7.5270e-07,\n",
            "         1.3187e-06, 6.4226e-07, 9.7902e-07, 1.8996e-06, 1.3978e-06, 1.9202e-06,\n",
            "         2.7515e-05, 1.5466e-06, 2.9991e-06, 1.5606e-06, 2.8245e-05, 1.9445e-06,\n",
            "         2.2254e-06, 1.6140e-06, 1.5432e-06, 1.5449e-05, 6.5592e-07, 3.7955e-08,\n",
            "         6.6601e-05, 2.1255e-06, 1.9190e-06, 9.0895e-07, 2.6595e-06, 1.6329e-06,\n",
            "         2.5109e-06, 1.6072e-06, 2.4292e-06, 8.3537e-07, 9.0728e-07, 9.2218e-07,\n",
            "         2.3092e-06, 8.5567e-07, 1.6611e-06, 1.2092e-06, 1.2315e-06, 3.2110e-07,\n",
            "         1.6404e-06, 1.0413e-06, 1.8090e-04, 2.8593e-05, 2.6336e-06, 7.8082e-07,\n",
            "         1.2526e-06, 5.0291e-06, 1.4428e-06, 3.0103e-09, 9.9497e-07, 2.0205e-05,\n",
            "         1.3818e-06, 5.8167e-07, 2.6866e-05, 2.3364e-06, 2.2847e-06, 3.5589e-06,\n",
            "         1.0083e-06, 1.1177e-03, 2.7422e-06, 1.7358e-06, 6.2768e-11, 9.6507e-06,\n",
            "         1.9691e-06, 1.9521e-06, 2.4750e-05, 1.8289e-06, 3.4216e-03, 2.0399e-06,\n",
            "         1.4137e-06, 9.9314e-07, 9.6058e-07, 1.3962e-06, 3.8040e-06, 3.2769e-04,\n",
            "         5.0601e-02, 2.0229e-06, 1.4537e-06, 1.8358e-06, 9.1677e-07, 1.6628e-06,\n",
            "         1.3143e-06, 1.0120e-06, 1.4487e-06, 1.1606e-06, 1.7979e-06, 1.4199e-06,\n",
            "         1.1814e-06, 7.4820e-07, 1.3717e-05, 4.7453e-05, 1.4095e-06, 8.9492e-07,\n",
            "         1.9633e-07, 1.2783e-06, 1.0547e-06, 1.5143e-06, 1.1749e-06, 1.6067e-06,\n",
            "         2.2073e-06, 9.7148e-07, 9.3301e-07, 5.3809e-07, 2.8129e-06, 3.6857e-06,\n",
            "         3.5589e-07, 2.1973e-08, 3.4819e-06, 2.1292e-06, 1.0875e-06, 2.0294e-06,\n",
            "         1.2074e-03, 4.5993e-07, 1.0907e-06, 6.9813e-08, 3.5109e-06, 1.1986e-06,\n",
            "         2.0804e-06, 2.1942e-06, 2.0640e-06, 1.2169e-06, 1.0837e-08, 2.1939e-06,\n",
            "         2.0814e-06, 1.1381e-06, 2.9125e-06, 1.7949e-06, 1.0685e-06, 1.3420e-06,\n",
            "         1.7804e-06, 2.6910e-05, 2.4093e-06, 1.2357e-06, 6.3403e-04, 1.2606e-06,\n",
            "         1.1770e-03, 8.5323e-08, 2.9453e-06]], device='cuda:0')\n"
          ]
        }
      ]
    },
    {
      "cell_type": "code",
      "source": [],
      "metadata": {
        "id": "QNF6TWAybDo2"
      },
      "execution_count": null,
      "outputs": []
    }
  ]
}